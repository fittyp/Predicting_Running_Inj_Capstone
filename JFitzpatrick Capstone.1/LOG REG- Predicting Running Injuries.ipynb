{
 "cells": [
  {
   "cell_type": "markdown",
   "id": "4c591700",
   "metadata": {},
   "source": [
    "# Logistic Regression Model to Predict Running Injuries "
   ]
  },
  {
   "cell_type": "markdown",
   "id": "f6590869",
   "metadata": {},
   "source": [
    "### Table of Contents\n",
    "\n",
    "1. [Reading in and Spliting the data](#Reading-in-and-Spliting-the-data)\n",
    "2. [Initial Untuned Logistic Regression](#Initial-Untuned-Logistic-Regression)\n",
    "3. [Optimizing Logistic Regression Hyperparameters](#Optimizing-Logistic-Regression-Hyperparameters)\n",
    "4. [Upsampling Injuries to .5 of Non-injury Class](#Upsampling-Injuries-to-.5-of-Non-injury-Class)\n",
    "5. [Upsample attempt to 50-50 split of injury vs non-injury](#Upsample-attempt-to-50-50-split-of-injury-vs-non-injury)\n",
    "6. [Down Sampling Non-Injuries to 1/2](#Down-Sampling-Non-Injuries-to-1/2)\n",
    "7. [Down sampling to 2x the size of Injury class](#Down-sampling-to-2x-the-size-of-Injury-class)\n",
    "8. [Down sampling to 50/50 split](#Down-sampling-to-50/50-split)\n",
    "9. [Conclusion](#Conclusion)"
   ]
  },
  {
   "cell_type": "markdown",
   "id": "81123019",
   "metadata": {},
   "source": [
    "In this note book we will try to optimize a logistic regression models to predict running injuries. A logistic regression was chose as this is a binary classification problem and this model would also allow us to look at coefficients to better understand the effect of certain features on the likely hood of an athelte getting inured"
   ]
  },
  {
   "cell_type": "code",
   "execution_count": 1,
   "id": "b23371d4",
   "metadata": {},
   "outputs": [],
   "source": [
    "import numpy as np\n",
    "import matplotlib.pyplot as plt\n",
    "import pandas as pd\n",
    "import statsmodels.api as sm\n"
   ]
  },
  {
   "cell_type": "markdown",
   "id": "346a40b5",
   "metadata": {},
   "source": [
    "# Reading in and Spliting the data"
   ]
  },
  {
   "cell_type": "code",
   "execution_count": 2,
   "id": "c90e76f2",
   "metadata": {},
   "outputs": [],
   "source": [
    "#READING IN THE DATA\n",
    "running_df=pd.read_csv('running_df_cleaned.csv', index_col=0)\n"
   ]
  },
  {
   "cell_type": "code",
   "execution_count": 3,
   "id": "9443a4e9",
   "metadata": {},
   "outputs": [
    {
     "data": {
      "text/plain": [
       "(42766, 73)"
      ]
     },
     "execution_count": 3,
     "metadata": {},
     "output_type": "execute_result"
    }
   ],
   "source": [
    "#sanity check\n",
    "running_df.shape"
   ]
  },
  {
   "cell_type": "code",
   "execution_count": 4,
   "id": "64867636",
   "metadata": {
    "scrolled": false
   },
   "outputs": [
    {
     "data": {
      "text/html": [
       "<div>\n",
       "<style scoped>\n",
       "    .dataframe tbody tr th:only-of-type {\n",
       "        vertical-align: middle;\n",
       "    }\n",
       "\n",
       "    .dataframe tbody tr th {\n",
       "        vertical-align: top;\n",
       "    }\n",
       "\n",
       "    .dataframe thead th {\n",
       "        text-align: right;\n",
       "    }\n",
       "</style>\n",
       "<table border=\"1\" class=\"dataframe\">\n",
       "  <thead>\n",
       "    <tr style=\"text-align: right;\">\n",
       "      <th></th>\n",
       "      <th>nr. sessions</th>\n",
       "      <th>total km</th>\n",
       "      <th>km Z3-4</th>\n",
       "      <th>km Z5-T1-T2</th>\n",
       "      <th>km sprinting</th>\n",
       "      <th>strength training</th>\n",
       "      <th>hours alternative</th>\n",
       "      <th>perceived exertion</th>\n",
       "      <th>perceived trainingSuccess</th>\n",
       "      <th>perceived recovery</th>\n",
       "      <th>...</th>\n",
       "      <th>km Z5-T1-T2.6</th>\n",
       "      <th>km sprinting.6</th>\n",
       "      <th>strength training.6</th>\n",
       "      <th>hours alternative.6</th>\n",
       "      <th>perceived exertion.6</th>\n",
       "      <th>perceived trainingSuccess.6</th>\n",
       "      <th>perceived recovery.6</th>\n",
       "      <th>Athlete ID</th>\n",
       "      <th>injury</th>\n",
       "      <th>Date</th>\n",
       "    </tr>\n",
       "  </thead>\n",
       "  <tbody>\n",
       "    <tr>\n",
       "      <th>0</th>\n",
       "      <td>1.0</td>\n",
       "      <td>5.8</td>\n",
       "      <td>0.0</td>\n",
       "      <td>0.6</td>\n",
       "      <td>1.2</td>\n",
       "      <td>0.0</td>\n",
       "      <td>0.00</td>\n",
       "      <td>0.11</td>\n",
       "      <td>0.00</td>\n",
       "      <td>0.18</td>\n",
       "      <td>...</td>\n",
       "      <td>0.0</td>\n",
       "      <td>0.0</td>\n",
       "      <td>0.0</td>\n",
       "      <td>1.0</td>\n",
       "      <td>0.10</td>\n",
       "      <td>0.00</td>\n",
       "      <td>0.15</td>\n",
       "      <td>0</td>\n",
       "      <td>0</td>\n",
       "      <td>0</td>\n",
       "    </tr>\n",
       "    <tr>\n",
       "      <th>1</th>\n",
       "      <td>0.0</td>\n",
       "      <td>0.0</td>\n",
       "      <td>0.0</td>\n",
       "      <td>0.0</td>\n",
       "      <td>0.0</td>\n",
       "      <td>0.0</td>\n",
       "      <td>0.00</td>\n",
       "      <td>-0.01</td>\n",
       "      <td>-0.01</td>\n",
       "      <td>-0.01</td>\n",
       "      <td>...</td>\n",
       "      <td>0.5</td>\n",
       "      <td>1.2</td>\n",
       "      <td>0.0</td>\n",
       "      <td>0.0</td>\n",
       "      <td>0.10</td>\n",
       "      <td>0.00</td>\n",
       "      <td>0.17</td>\n",
       "      <td>0</td>\n",
       "      <td>0</td>\n",
       "      <td>1</td>\n",
       "    </tr>\n",
       "    <tr>\n",
       "      <th>2</th>\n",
       "      <td>1.0</td>\n",
       "      <td>0.0</td>\n",
       "      <td>0.0</td>\n",
       "      <td>0.0</td>\n",
       "      <td>0.0</td>\n",
       "      <td>1.0</td>\n",
       "      <td>0.00</td>\n",
       "      <td>0.10</td>\n",
       "      <td>0.00</td>\n",
       "      <td>0.17</td>\n",
       "      <td>...</td>\n",
       "      <td>0.0</td>\n",
       "      <td>0.0</td>\n",
       "      <td>0.0</td>\n",
       "      <td>0.0</td>\n",
       "      <td>-0.01</td>\n",
       "      <td>-0.01</td>\n",
       "      <td>-0.01</td>\n",
       "      <td>0</td>\n",
       "      <td>0</td>\n",
       "      <td>2</td>\n",
       "    </tr>\n",
       "    <tr>\n",
       "      <th>3</th>\n",
       "      <td>0.0</td>\n",
       "      <td>0.0</td>\n",
       "      <td>0.0</td>\n",
       "      <td>0.0</td>\n",
       "      <td>0.0</td>\n",
       "      <td>0.0</td>\n",
       "      <td>0.00</td>\n",
       "      <td>-0.01</td>\n",
       "      <td>-0.01</td>\n",
       "      <td>-0.01</td>\n",
       "      <td>...</td>\n",
       "      <td>0.0</td>\n",
       "      <td>0.0</td>\n",
       "      <td>1.0</td>\n",
       "      <td>0.0</td>\n",
       "      <td>0.10</td>\n",
       "      <td>0.00</td>\n",
       "      <td>0.17</td>\n",
       "      <td>0</td>\n",
       "      <td>0</td>\n",
       "      <td>3</td>\n",
       "    </tr>\n",
       "    <tr>\n",
       "      <th>4</th>\n",
       "      <td>1.0</td>\n",
       "      <td>0.0</td>\n",
       "      <td>0.0</td>\n",
       "      <td>0.0</td>\n",
       "      <td>0.0</td>\n",
       "      <td>0.0</td>\n",
       "      <td>1.08</td>\n",
       "      <td>0.08</td>\n",
       "      <td>0.00</td>\n",
       "      <td>0.18</td>\n",
       "      <td>...</td>\n",
       "      <td>0.0</td>\n",
       "      <td>0.0</td>\n",
       "      <td>0.0</td>\n",
       "      <td>0.0</td>\n",
       "      <td>0.11</td>\n",
       "      <td>0.00</td>\n",
       "      <td>0.17</td>\n",
       "      <td>0</td>\n",
       "      <td>0</td>\n",
       "      <td>4</td>\n",
       "    </tr>\n",
       "    <tr>\n",
       "      <th>...</th>\n",
       "      <td>...</td>\n",
       "      <td>...</td>\n",
       "      <td>...</td>\n",
       "      <td>...</td>\n",
       "      <td>...</td>\n",
       "      <td>...</td>\n",
       "      <td>...</td>\n",
       "      <td>...</td>\n",
       "      <td>...</td>\n",
       "      <td>...</td>\n",
       "      <td>...</td>\n",
       "      <td>...</td>\n",
       "      <td>...</td>\n",
       "      <td>...</td>\n",
       "      <td>...</td>\n",
       "      <td>...</td>\n",
       "      <td>...</td>\n",
       "      <td>...</td>\n",
       "      <td>...</td>\n",
       "      <td>...</td>\n",
       "      <td>...</td>\n",
       "    </tr>\n",
       "    <tr>\n",
       "      <th>42761</th>\n",
       "      <td>1.0</td>\n",
       "      <td>16.0</td>\n",
       "      <td>0.0</td>\n",
       "      <td>0.0</td>\n",
       "      <td>0.0</td>\n",
       "      <td>0.0</td>\n",
       "      <td>0.00</td>\n",
       "      <td>0.54</td>\n",
       "      <td>0.22</td>\n",
       "      <td>0.30</td>\n",
       "      <td>...</td>\n",
       "      <td>0.0</td>\n",
       "      <td>0.0</td>\n",
       "      <td>0.0</td>\n",
       "      <td>0.0</td>\n",
       "      <td>-0.01</td>\n",
       "      <td>-0.01</td>\n",
       "      <td>-0.01</td>\n",
       "      <td>71</td>\n",
       "      <td>1</td>\n",
       "      <td>2143</td>\n",
       "    </tr>\n",
       "    <tr>\n",
       "      <th>42762</th>\n",
       "      <td>0.0</td>\n",
       "      <td>0.0</td>\n",
       "      <td>0.0</td>\n",
       "      <td>0.0</td>\n",
       "      <td>0.0</td>\n",
       "      <td>0.0</td>\n",
       "      <td>0.00</td>\n",
       "      <td>-0.01</td>\n",
       "      <td>-0.01</td>\n",
       "      <td>-0.01</td>\n",
       "      <td>...</td>\n",
       "      <td>0.0</td>\n",
       "      <td>0.0</td>\n",
       "      <td>0.0</td>\n",
       "      <td>0.0</td>\n",
       "      <td>-0.01</td>\n",
       "      <td>-0.01</td>\n",
       "      <td>-0.01</td>\n",
       "      <td>71</td>\n",
       "      <td>1</td>\n",
       "      <td>2286</td>\n",
       "    </tr>\n",
       "    <tr>\n",
       "      <th>42763</th>\n",
       "      <td>1.0</td>\n",
       "      <td>10.0</td>\n",
       "      <td>0.0</td>\n",
       "      <td>0.0</td>\n",
       "      <td>0.0</td>\n",
       "      <td>0.0</td>\n",
       "      <td>0.00</td>\n",
       "      <td>0.94</td>\n",
       "      <td>0.88</td>\n",
       "      <td>0.11</td>\n",
       "      <td>...</td>\n",
       "      <td>0.0</td>\n",
       "      <td>0.0</td>\n",
       "      <td>0.0</td>\n",
       "      <td>0.0</td>\n",
       "      <td>-0.01</td>\n",
       "      <td>-0.01</td>\n",
       "      <td>-0.01</td>\n",
       "      <td>71</td>\n",
       "      <td>1</td>\n",
       "      <td>2483</td>\n",
       "    </tr>\n",
       "    <tr>\n",
       "      <th>42764</th>\n",
       "      <td>1.0</td>\n",
       "      <td>15.1</td>\n",
       "      <td>0.0</td>\n",
       "      <td>0.0</td>\n",
       "      <td>0.0</td>\n",
       "      <td>0.0</td>\n",
       "      <td>0.00</td>\n",
       "      <td>0.87</td>\n",
       "      <td>0.86</td>\n",
       "      <td>0.20</td>\n",
       "      <td>...</td>\n",
       "      <td>0.0</td>\n",
       "      <td>0.0</td>\n",
       "      <td>0.0</td>\n",
       "      <td>0.0</td>\n",
       "      <td>0.79</td>\n",
       "      <td>0.80</td>\n",
       "      <td>0.11</td>\n",
       "      <td>71</td>\n",
       "      <td>1</td>\n",
       "      <td>2647</td>\n",
       "    </tr>\n",
       "    <tr>\n",
       "      <th>42765</th>\n",
       "      <td>1.0</td>\n",
       "      <td>12.2</td>\n",
       "      <td>0.0</td>\n",
       "      <td>0.0</td>\n",
       "      <td>0.0</td>\n",
       "      <td>0.0</td>\n",
       "      <td>0.00</td>\n",
       "      <td>0.96</td>\n",
       "      <td>0.95</td>\n",
       "      <td>0.20</td>\n",
       "      <td>...</td>\n",
       "      <td>0.0</td>\n",
       "      <td>0.0</td>\n",
       "      <td>0.0</td>\n",
       "      <td>0.0</td>\n",
       "      <td>0.51</td>\n",
       "      <td>0.83</td>\n",
       "      <td>0.15</td>\n",
       "      <td>71</td>\n",
       "      <td>1</td>\n",
       "      <td>2673</td>\n",
       "    </tr>\n",
       "  </tbody>\n",
       "</table>\n",
       "<p>42766 rows × 73 columns</p>\n",
       "</div>"
      ],
      "text/plain": [
       "       nr. sessions  total km  km Z3-4  km Z5-T1-T2  km sprinting  \\\n",
       "0               1.0       5.8      0.0          0.6           1.2   \n",
       "1               0.0       0.0      0.0          0.0           0.0   \n",
       "2               1.0       0.0      0.0          0.0           0.0   \n",
       "3               0.0       0.0      0.0          0.0           0.0   \n",
       "4               1.0       0.0      0.0          0.0           0.0   \n",
       "...             ...       ...      ...          ...           ...   \n",
       "42761           1.0      16.0      0.0          0.0           0.0   \n",
       "42762           0.0       0.0      0.0          0.0           0.0   \n",
       "42763           1.0      10.0      0.0          0.0           0.0   \n",
       "42764           1.0      15.1      0.0          0.0           0.0   \n",
       "42765           1.0      12.2      0.0          0.0           0.0   \n",
       "\n",
       "       strength training  hours alternative  perceived exertion  \\\n",
       "0                    0.0               0.00                0.11   \n",
       "1                    0.0               0.00               -0.01   \n",
       "2                    1.0               0.00                0.10   \n",
       "3                    0.0               0.00               -0.01   \n",
       "4                    0.0               1.08                0.08   \n",
       "...                  ...                ...                 ...   \n",
       "42761                0.0               0.00                0.54   \n",
       "42762                0.0               0.00               -0.01   \n",
       "42763                0.0               0.00                0.94   \n",
       "42764                0.0               0.00                0.87   \n",
       "42765                0.0               0.00                0.96   \n",
       "\n",
       "       perceived trainingSuccess  perceived recovery  ...  km Z5-T1-T2.6  \\\n",
       "0                           0.00                0.18  ...            0.0   \n",
       "1                          -0.01               -0.01  ...            0.5   \n",
       "2                           0.00                0.17  ...            0.0   \n",
       "3                          -0.01               -0.01  ...            0.0   \n",
       "4                           0.00                0.18  ...            0.0   \n",
       "...                          ...                 ...  ...            ...   \n",
       "42761                       0.22                0.30  ...            0.0   \n",
       "42762                      -0.01               -0.01  ...            0.0   \n",
       "42763                       0.88                0.11  ...            0.0   \n",
       "42764                       0.86                0.20  ...            0.0   \n",
       "42765                       0.95                0.20  ...            0.0   \n",
       "\n",
       "       km sprinting.6  strength training.6  hours alternative.6  \\\n",
       "0                 0.0                  0.0                  1.0   \n",
       "1                 1.2                  0.0                  0.0   \n",
       "2                 0.0                  0.0                  0.0   \n",
       "3                 0.0                  1.0                  0.0   \n",
       "4                 0.0                  0.0                  0.0   \n",
       "...               ...                  ...                  ...   \n",
       "42761             0.0                  0.0                  0.0   \n",
       "42762             0.0                  0.0                  0.0   \n",
       "42763             0.0                  0.0                  0.0   \n",
       "42764             0.0                  0.0                  0.0   \n",
       "42765             0.0                  0.0                  0.0   \n",
       "\n",
       "       perceived exertion.6  perceived trainingSuccess.6  \\\n",
       "0                      0.10                         0.00   \n",
       "1                      0.10                         0.00   \n",
       "2                     -0.01                        -0.01   \n",
       "3                      0.10                         0.00   \n",
       "4                      0.11                         0.00   \n",
       "...                     ...                          ...   \n",
       "42761                 -0.01                        -0.01   \n",
       "42762                 -0.01                        -0.01   \n",
       "42763                 -0.01                        -0.01   \n",
       "42764                  0.79                         0.80   \n",
       "42765                  0.51                         0.83   \n",
       "\n",
       "       perceived recovery.6  Athlete ID  injury  Date  \n",
       "0                      0.15           0       0     0  \n",
       "1                      0.17           0       0     1  \n",
       "2                     -0.01           0       0     2  \n",
       "3                      0.17           0       0     3  \n",
       "4                      0.17           0       0     4  \n",
       "...                     ...         ...     ...   ...  \n",
       "42761                 -0.01          71       1  2143  \n",
       "42762                 -0.01          71       1  2286  \n",
       "42763                 -0.01          71       1  2483  \n",
       "42764                  0.11          71       1  2647  \n",
       "42765                  0.15          71       1  2673  \n",
       "\n",
       "[42766 rows x 73 columns]"
      ]
     },
     "execution_count": 4,
     "metadata": {},
     "output_type": "execute_result"
    }
   ],
   "source": [
    "running_df"
   ]
  },
  {
   "cell_type": "code",
   "execution_count": 5,
   "id": "64613b82",
   "metadata": {
    "scrolled": false
   },
   "outputs": [
    {
     "data": {
      "text/html": [
       "<div>\n",
       "<style scoped>\n",
       "    .dataframe tbody tr th:only-of-type {\n",
       "        vertical-align: middle;\n",
       "    }\n",
       "\n",
       "    .dataframe tbody tr th {\n",
       "        vertical-align: top;\n",
       "    }\n",
       "\n",
       "    .dataframe thead th {\n",
       "        text-align: right;\n",
       "    }\n",
       "</style>\n",
       "<table border=\"1\" class=\"dataframe\">\n",
       "  <thead>\n",
       "    <tr style=\"text-align: right;\">\n",
       "      <th></th>\n",
       "      <th>nr. sessions</th>\n",
       "      <th>total km</th>\n",
       "      <th>km Z3-4</th>\n",
       "      <th>km Z5-T1-T2</th>\n",
       "      <th>km sprinting</th>\n",
       "      <th>strength training</th>\n",
       "      <th>hours alternative</th>\n",
       "      <th>perceived exertion</th>\n",
       "      <th>perceived trainingSuccess</th>\n",
       "      <th>perceived recovery</th>\n",
       "      <th>...</th>\n",
       "      <th>km Z5-T1-T2.6</th>\n",
       "      <th>km sprinting.6</th>\n",
       "      <th>strength training.6</th>\n",
       "      <th>hours alternative.6</th>\n",
       "      <th>perceived exertion.6</th>\n",
       "      <th>perceived trainingSuccess.6</th>\n",
       "      <th>perceived recovery.6</th>\n",
       "      <th>Athlete ID</th>\n",
       "      <th>injury</th>\n",
       "      <th>Date</th>\n",
       "    </tr>\n",
       "  </thead>\n",
       "  <tbody>\n",
       "    <tr>\n",
       "      <th>count</th>\n",
       "      <td>42766.000000</td>\n",
       "      <td>42766.000000</td>\n",
       "      <td>42766.000000</td>\n",
       "      <td>42766.000000</td>\n",
       "      <td>42766.000000</td>\n",
       "      <td>42766.000000</td>\n",
       "      <td>42766.000000</td>\n",
       "      <td>42766.000000</td>\n",
       "      <td>42766.000000</td>\n",
       "      <td>42766.000000</td>\n",
       "      <td>...</td>\n",
       "      <td>42766.000000</td>\n",
       "      <td>42766.000000</td>\n",
       "      <td>42766.000000</td>\n",
       "      <td>42766.000000</td>\n",
       "      <td>42766.000000</td>\n",
       "      <td>42766.000000</td>\n",
       "      <td>42766.000000</td>\n",
       "      <td>42766.000000</td>\n",
       "      <td>42766.000000</td>\n",
       "      <td>42766.000000</td>\n",
       "    </tr>\n",
       "    <tr>\n",
       "      <th>mean</th>\n",
       "      <td>0.829561</td>\n",
       "      <td>7.038187</td>\n",
       "      <td>0.691381</td>\n",
       "      <td>0.579930</td>\n",
       "      <td>0.073016</td>\n",
       "      <td>0.116237</td>\n",
       "      <td>0.163492</td>\n",
       "      <td>0.247788</td>\n",
       "      <td>0.349802</td>\n",
       "      <td>0.195898</td>\n",
       "      <td>...</td>\n",
       "      <td>0.580347</td>\n",
       "      <td>0.072595</td>\n",
       "      <td>0.116120</td>\n",
       "      <td>0.162308</td>\n",
       "      <td>0.247550</td>\n",
       "      <td>0.349503</td>\n",
       "      <td>0.196224</td>\n",
       "      <td>34.550858</td>\n",
       "      <td>0.013632</td>\n",
       "      <td>1228.039892</td>\n",
       "    </tr>\n",
       "    <tr>\n",
       "      <th>std</th>\n",
       "      <td>0.580696</td>\n",
       "      <td>7.473216</td>\n",
       "      <td>2.317657</td>\n",
       "      <td>1.811938</td>\n",
       "      <td>0.483480</td>\n",
       "      <td>0.326010</td>\n",
       "      <td>0.549664</td>\n",
       "      <td>0.257262</td>\n",
       "      <td>0.368300</td>\n",
       "      <td>0.190321</td>\n",
       "      <td>...</td>\n",
       "      <td>1.814538</td>\n",
       "      <td>0.483691</td>\n",
       "      <td>0.326016</td>\n",
       "      <td>0.554031</td>\n",
       "      <td>0.256718</td>\n",
       "      <td>0.368042</td>\n",
       "      <td>0.190568</td>\n",
       "      <td>19.050033</td>\n",
       "      <td>0.115960</td>\n",
       "      <td>807.021168</td>\n",
       "    </tr>\n",
       "    <tr>\n",
       "      <th>min</th>\n",
       "      <td>0.000000</td>\n",
       "      <td>0.000000</td>\n",
       "      <td>0.000000</td>\n",
       "      <td>0.000000</td>\n",
       "      <td>0.000000</td>\n",
       "      <td>0.000000</td>\n",
       "      <td>0.000000</td>\n",
       "      <td>-0.010000</td>\n",
       "      <td>-0.010000</td>\n",
       "      <td>-0.010000</td>\n",
       "      <td>...</td>\n",
       "      <td>0.000000</td>\n",
       "      <td>0.000000</td>\n",
       "      <td>0.000000</td>\n",
       "      <td>0.000000</td>\n",
       "      <td>-0.010000</td>\n",
       "      <td>-0.010000</td>\n",
       "      <td>-0.010000</td>\n",
       "      <td>0.000000</td>\n",
       "      <td>0.000000</td>\n",
       "      <td>0.000000</td>\n",
       "    </tr>\n",
       "    <tr>\n",
       "      <th>25%</th>\n",
       "      <td>0.000000</td>\n",
       "      <td>0.000000</td>\n",
       "      <td>0.000000</td>\n",
       "      <td>0.000000</td>\n",
       "      <td>0.000000</td>\n",
       "      <td>0.000000</td>\n",
       "      <td>0.000000</td>\n",
       "      <td>-0.010000</td>\n",
       "      <td>-0.010000</td>\n",
       "      <td>-0.010000</td>\n",
       "      <td>...</td>\n",
       "      <td>0.000000</td>\n",
       "      <td>0.000000</td>\n",
       "      <td>0.000000</td>\n",
       "      <td>0.000000</td>\n",
       "      <td>-0.010000</td>\n",
       "      <td>-0.010000</td>\n",
       "      <td>-0.010000</td>\n",
       "      <td>20.000000</td>\n",
       "      <td>0.000000</td>\n",
       "      <td>436.000000</td>\n",
       "    </tr>\n",
       "    <tr>\n",
       "      <th>50%</th>\n",
       "      <td>1.000000</td>\n",
       "      <td>6.000000</td>\n",
       "      <td>0.000000</td>\n",
       "      <td>0.000000</td>\n",
       "      <td>0.000000</td>\n",
       "      <td>0.000000</td>\n",
       "      <td>0.000000</td>\n",
       "      <td>0.160000</td>\n",
       "      <td>0.260000</td>\n",
       "      <td>0.160000</td>\n",
       "      <td>...</td>\n",
       "      <td>0.000000</td>\n",
       "      <td>0.000000</td>\n",
       "      <td>0.000000</td>\n",
       "      <td>0.000000</td>\n",
       "      <td>0.160000</td>\n",
       "      <td>0.260000</td>\n",
       "      <td>0.170000</td>\n",
       "      <td>34.000000</td>\n",
       "      <td>0.000000</td>\n",
       "      <td>1256.000000</td>\n",
       "    </tr>\n",
       "    <tr>\n",
       "      <th>75%</th>\n",
       "      <td>1.000000</td>\n",
       "      <td>12.000000</td>\n",
       "      <td>0.000000</td>\n",
       "      <td>0.000000</td>\n",
       "      <td>0.000000</td>\n",
       "      <td>0.000000</td>\n",
       "      <td>0.000000</td>\n",
       "      <td>0.440000</td>\n",
       "      <td>0.720000</td>\n",
       "      <td>0.300000</td>\n",
       "      <td>...</td>\n",
       "      <td>0.000000</td>\n",
       "      <td>0.000000</td>\n",
       "      <td>0.000000</td>\n",
       "      <td>0.000000</td>\n",
       "      <td>0.440000</td>\n",
       "      <td>0.720000</td>\n",
       "      <td>0.300000</td>\n",
       "      <td>50.000000</td>\n",
       "      <td>0.000000</td>\n",
       "      <td>1913.000000</td>\n",
       "    </tr>\n",
       "    <tr>\n",
       "      <th>max</th>\n",
       "      <td>2.000000</td>\n",
       "      <td>55.900000</td>\n",
       "      <td>42.200000</td>\n",
       "      <td>48.000000</td>\n",
       "      <td>40.000000</td>\n",
       "      <td>2.000000</td>\n",
       "      <td>10.220000</td>\n",
       "      <td>1.000000</td>\n",
       "      <td>1.000000</td>\n",
       "      <td>1.000000</td>\n",
       "      <td>...</td>\n",
       "      <td>48.000000</td>\n",
       "      <td>40.000000</td>\n",
       "      <td>2.000000</td>\n",
       "      <td>20.000000</td>\n",
       "      <td>1.000000</td>\n",
       "      <td>1.000000</td>\n",
       "      <td>1.000000</td>\n",
       "      <td>73.000000</td>\n",
       "      <td>1.000000</td>\n",
       "      <td>2673.000000</td>\n",
       "    </tr>\n",
       "  </tbody>\n",
       "</table>\n",
       "<p>8 rows × 73 columns</p>\n",
       "</div>"
      ],
      "text/plain": [
       "       nr. sessions      total km       km Z3-4   km Z5-T1-T2  km sprinting  \\\n",
       "count  42766.000000  42766.000000  42766.000000  42766.000000  42766.000000   \n",
       "mean       0.829561      7.038187      0.691381      0.579930      0.073016   \n",
       "std        0.580696      7.473216      2.317657      1.811938      0.483480   \n",
       "min        0.000000      0.000000      0.000000      0.000000      0.000000   \n",
       "25%        0.000000      0.000000      0.000000      0.000000      0.000000   \n",
       "50%        1.000000      6.000000      0.000000      0.000000      0.000000   \n",
       "75%        1.000000     12.000000      0.000000      0.000000      0.000000   \n",
       "max        2.000000     55.900000     42.200000     48.000000     40.000000   \n",
       "\n",
       "       strength training  hours alternative  perceived exertion  \\\n",
       "count       42766.000000       42766.000000        42766.000000   \n",
       "mean            0.116237           0.163492            0.247788   \n",
       "std             0.326010           0.549664            0.257262   \n",
       "min             0.000000           0.000000           -0.010000   \n",
       "25%             0.000000           0.000000           -0.010000   \n",
       "50%             0.000000           0.000000            0.160000   \n",
       "75%             0.000000           0.000000            0.440000   \n",
       "max             2.000000          10.220000            1.000000   \n",
       "\n",
       "       perceived trainingSuccess  perceived recovery  ...  km Z5-T1-T2.6  \\\n",
       "count               42766.000000        42766.000000  ...   42766.000000   \n",
       "mean                    0.349802            0.195898  ...       0.580347   \n",
       "std                     0.368300            0.190321  ...       1.814538   \n",
       "min                    -0.010000           -0.010000  ...       0.000000   \n",
       "25%                    -0.010000           -0.010000  ...       0.000000   \n",
       "50%                     0.260000            0.160000  ...       0.000000   \n",
       "75%                     0.720000            0.300000  ...       0.000000   \n",
       "max                     1.000000            1.000000  ...      48.000000   \n",
       "\n",
       "       km sprinting.6  strength training.6  hours alternative.6  \\\n",
       "count    42766.000000         42766.000000         42766.000000   \n",
       "mean         0.072595             0.116120             0.162308   \n",
       "std          0.483691             0.326016             0.554031   \n",
       "min          0.000000             0.000000             0.000000   \n",
       "25%          0.000000             0.000000             0.000000   \n",
       "50%          0.000000             0.000000             0.000000   \n",
       "75%          0.000000             0.000000             0.000000   \n",
       "max         40.000000             2.000000            20.000000   \n",
       "\n",
       "       perceived exertion.6  perceived trainingSuccess.6  \\\n",
       "count          42766.000000                 42766.000000   \n",
       "mean               0.247550                     0.349503   \n",
       "std                0.256718                     0.368042   \n",
       "min               -0.010000                    -0.010000   \n",
       "25%               -0.010000                    -0.010000   \n",
       "50%                0.160000                     0.260000   \n",
       "75%                0.440000                     0.720000   \n",
       "max                1.000000                     1.000000   \n",
       "\n",
       "       perceived recovery.6    Athlete ID        injury          Date  \n",
       "count          42766.000000  42766.000000  42766.000000  42766.000000  \n",
       "mean               0.196224     34.550858      0.013632   1228.039892  \n",
       "std                0.190568     19.050033      0.115960    807.021168  \n",
       "min               -0.010000      0.000000      0.000000      0.000000  \n",
       "25%               -0.010000     20.000000      0.000000    436.000000  \n",
       "50%                0.170000     34.000000      0.000000   1256.000000  \n",
       "75%                0.300000     50.000000      0.000000   1913.000000  \n",
       "max                1.000000     73.000000      1.000000   2673.000000  \n",
       "\n",
       "[8 rows x 73 columns]"
      ]
     },
     "execution_count": 5,
     "metadata": {},
     "output_type": "execute_result"
    }
   ],
   "source": [
    "#sanity check\n",
    "running_df.describe()"
   ]
  },
  {
   "cell_type": "markdown",
   "id": "ec4e2329",
   "metadata": {},
   "source": [
    "Bellow we will split the data into train, validaiton and test, and will then see how an intuned logistic regression performs."
   ]
  },
  {
   "cell_type": "code",
   "execution_count": 6,
   "id": "3c28cfed",
   "metadata": {
    "scrolled": true
   },
   "outputs": [],
   "source": [
    "#splitting the data in train, validaiton and test\n",
    "\n",
    "from sklearn.linear_model import LogisticRegression\n",
    "from sklearn.preprocessing import StandardScaler\n",
    "from sklearn.model_selection import train_test_split\n",
    "\n",
    "X=running_df.drop(['injury'], axis= 1)\n",
    "y=running_df['injury']\n",
    "\n",
    "\n",
    "#split into test and remainder\n",
    "X_remainder, X_test, y_remainder, y_test = train_test_split(X, y, test_size=0.2, random_state=1, stratify=y )\n"
   ]
  },
  {
   "cell_type": "code",
   "execution_count": 7,
   "id": "0fe523dc",
   "metadata": {
    "scrolled": false
   },
   "outputs": [],
   "source": [
    "#split remainder into train and validation\n",
    "X_train, X_validation, y_train, y_validation = train_test_split(X_remainder, y_remainder, test_size=0.2, random_state=1, )\n"
   ]
  },
  {
   "cell_type": "code",
   "execution_count": 8,
   "id": "615fd6a8",
   "metadata": {},
   "outputs": [
    {
     "data": {
      "text/plain": [
       "0    0.986627\n",
       "1    0.013373\n",
       "Name: injury, dtype: float64"
      ]
     },
     "execution_count": 8,
     "metadata": {},
     "output_type": "execute_result"
    }
   ],
   "source": [
    "y_train.value_counts(normalize=True)"
   ]
  },
  {
   "cell_type": "code",
   "execution_count": 9,
   "id": "b7ff7242",
   "metadata": {},
   "outputs": [
    {
     "data": {
      "text/plain": [
       "0    0.985387\n",
       "1    0.014613\n",
       "Name: injury, dtype: float64"
      ]
     },
     "execution_count": 9,
     "metadata": {},
     "output_type": "execute_result"
    }
   ],
   "source": [
    "y_validation.value_counts(normalize=True)"
   ]
  },
  {
   "cell_type": "code",
   "execution_count": 10,
   "id": "84437675",
   "metadata": {},
   "outputs": [
    {
     "data": {
      "text/plain": [
       "0    0.986322\n",
       "1    0.013678\n",
       "Name: injury, dtype: float64"
      ]
     },
     "execution_count": 10,
     "metadata": {},
     "output_type": "execute_result"
    }
   ],
   "source": [
    "y_test.value_counts(normalize=True)"
   ]
  },
  {
   "cell_type": "markdown",
   "id": "425201b7",
   "metadata": {},
   "source": [
    "Note within the train test split we stratified the data so that the ratio of injury to non injury was consistant throughout. As we can see from the cells above, each y_(train, test, validation) roughly has 13-14% injured.\n",
    "\n",
    "We will now fit a initial untuned logistic regression with the train data to get a base line of model performance before optimizing."
   ]
  },
  {
   "cell_type": "markdown",
   "id": "7a7b65cc",
   "metadata": {},
   "source": [
    "# Initial Untuned Logistic Regression"
   ]
  },
  {
   "cell_type": "code",
   "execution_count": 11,
   "id": "d78974ac",
   "metadata": {},
   "outputs": [
    {
     "name": "stdout",
     "output_type": "stream",
     "text": [
      "train score:0.9866272059629508\n",
      "validation score:0.9853865263773199\n"
     ]
    }
   ],
   "source": [
    "# INSTANTIATE*?* AND FIT MODEL\n",
    "logreg_1= LogisticRegression(max_iter=10000)\n",
    "logreg_1.fit(X_train, y_train)\n",
    "\n",
    "#score\n",
    "print(f'train score:{logreg_1.score(X_train,y_train)}')\n",
    "print(f'validation score:{logreg_1.score(X_validation,y_validation)}')\n"
   ]
  },
  {
   "cell_type": "markdown",
   "id": "7cc95e38",
   "metadata": {},
   "source": [
    "Our initial logistic regression with out scaling or any parameter optimization is already at 98% accuracy, however this accuracy should be taken with a grain of salt as our data set was already 98.6 non-injured (see bellow). We will plot a confusion matrix and check the f1 score to get a better look at the models accuracy. "
   ]
  },
  {
   "cell_type": "code",
   "execution_count": 12,
   "id": "88b4feb1",
   "metadata": {
    "scrolled": false
   },
   "outputs": [
    {
     "data": {
      "text/plain": [
       "0    0.986368\n",
       "1    0.013632\n",
       "Name: injury, dtype: float64"
      ]
     },
     "execution_count": 12,
     "metadata": {},
     "output_type": "execute_result"
    }
   ],
   "source": [
    "#percentage of non injury vs injury\n",
    "running_df['injury'].value_counts(normalize= True)"
   ]
  },
  {
   "cell_type": "code",
   "execution_count": 13,
   "id": "e8b9e18c",
   "metadata": {
    "scrolled": true
   },
   "outputs": [
    {
     "name": "stderr",
     "output_type": "stream",
     "text": [
      "/Users/johnfitzpatrick/opt/anaconda3/lib/python3.9/site-packages/sklearn/utils/deprecation.py:87: FutureWarning: Function plot_confusion_matrix is deprecated; Function `plot_confusion_matrix` is deprecated in 1.0 and will be removed in 1.2. Use one of the class methods: ConfusionMatrixDisplay.from_predictions or ConfusionMatrixDisplay.from_estimator.\n",
      "  warnings.warn(msg, category=FutureWarning)\n"
     ]
    },
    {
     "data": {
      "image/png": "[encoded data removed]",
      "text/plain": [
       "<Figure size 432x288 with 2 Axes>"
      ]
     },
     "metadata": {
      "needs_background": "light"
     },
     "output_type": "display_data"
    }
   ],
   "source": [
    "from sklearn.metrics import plot_confusion_matrix, confusion_matrix\n",
    "\n",
    "plot_confusion_matrix(logreg_1, X_validation, y_validation);"
   ]
  },
  {
   "cell_type": "code",
   "execution_count": 14,
   "id": "33e6a1c4",
   "metadata": {},
   "outputs": [
    {
     "data": {
      "text/html": [
       "<div>\n",
       "<style scoped>\n",
       "    .dataframe tbody tr th:only-of-type {\n",
       "        vertical-align: middle;\n",
       "    }\n",
       "\n",
       "    .dataframe tbody tr th {\n",
       "        vertical-align: top;\n",
       "    }\n",
       "\n",
       "    .dataframe thead th {\n",
       "        text-align: right;\n",
       "    }\n",
       "</style>\n",
       "<table border=\"1\" class=\"dataframe\">\n",
       "  <thead>\n",
       "    <tr style=\"text-align: right;\">\n",
       "      <th></th>\n",
       "      <th>Predicted Non-Injury</th>\n",
       "      <th>Predicted Injury</th>\n",
       "    </tr>\n",
       "  </thead>\n",
       "  <tbody>\n",
       "    <tr>\n",
       "      <th>True Non-Injury</th>\n",
       "      <td>6743</td>\n",
       "      <td>0</td>\n",
       "    </tr>\n",
       "    <tr>\n",
       "      <th>True Injury</th>\n",
       "      <td>100</td>\n",
       "      <td>0</td>\n",
       "    </tr>\n",
       "  </tbody>\n",
       "</table>\n",
       "</div>"
      ],
      "text/plain": [
       "                 Predicted Non-Injury  Predicted Injury\n",
       "True Non-Injury                  6743                 0\n",
       "True Injury                       100                 0"
      ]
     },
     "metadata": {},
     "output_type": "display_data"
    }
   ],
   "source": [
    "from sklearn.metrics import plot_confusion_matrix, confusion_matrix\n",
    "\n",
    "# Get class predictions\n",
    "y_pred = logreg_1.predict(X_validation)\n",
    "\n",
    "# Generate confusion matrix\n",
    "cf_matrix = confusion_matrix(y_validation, y_pred)\n",
    "\n",
    "# label rows and columns\n",
    "cf_df = pd.DataFrame(\n",
    "    cf_matrix, \n",
    "    columns=[\"Predicted Non-Injury\", \"Predicted Injury\"],\n",
    "    index=[\"True Non-Injury\", \"True Injury\"]\n",
    ")\n",
    "\n",
    "display(cf_df)"
   ]
  },
  {
   "cell_type": "markdown",
   "id": "9cc0185e",
   "metadata": {},
   "source": [
    "As expected the model is simply classifying everything as non-injured."
   ]
  },
  {
   "cell_type": "code",
   "execution_count": 15,
   "id": "6afd7f1c",
   "metadata": {
    "scrolled": false
   },
   "outputs": [
    {
     "name": "stdout",
     "output_type": "stream",
     "text": [
      "              precision    recall  f1-score   support\n",
      "\n",
      "           0       0.99      1.00      0.99      6743\n",
      "           1       0.00      0.00      0.00       100\n",
      "\n",
      "    accuracy                           0.99      6843\n",
      "   macro avg       0.49      0.50      0.50      6843\n",
      "weighted avg       0.97      0.99      0.98      6843\n",
      "\n"
     ]
    },
    {
     "name": "stderr",
     "output_type": "stream",
     "text": [
      "/Users/johnfitzpatrick/opt/anaconda3/lib/python3.9/site-packages/sklearn/metrics/_classification.py:1318: UndefinedMetricWarning: Precision and F-score are ill-defined and being set to 0.0 in labels with no predicted samples. Use `zero_division` parameter to control this behavior.\n",
      "  _warn_prf(average, modifier, msg_start, len(result))\n",
      "/Users/johnfitzpatrick/opt/anaconda3/lib/python3.9/site-packages/sklearn/metrics/_classification.py:1318: UndefinedMetricWarning: Precision and F-score are ill-defined and being set to 0.0 in labels with no predicted samples. Use `zero_division` parameter to control this behavior.\n",
      "  _warn_prf(average, modifier, msg_start, len(result))\n",
      "/Users/johnfitzpatrick/opt/anaconda3/lib/python3.9/site-packages/sklearn/metrics/_classification.py:1318: UndefinedMetricWarning: Precision and F-score are ill-defined and being set to 0.0 in labels with no predicted samples. Use `zero_division` parameter to control this behavior.\n",
      "  _warn_prf(average, modifier, msg_start, len(result))\n"
     ]
    }
   ],
   "source": [
    "from sklearn.metrics import classification_report\n",
    "\n",
    "y_pred= logreg_1.predict(X_validation)\n",
    "\n",
    "print(classification_report(y_validation, y_pred))"
   ]
  },
  {
   "cell_type": "markdown",
   "id": "19ad9efa",
   "metadata": {},
   "source": [
    "The classification report further illustrates the models poor perfromance, with recall, percision and f1-scores of 0."
   ]
  },
  {
   "cell_type": "markdown",
   "id": "6bf59faa",
   "metadata": {},
   "source": [
    "We will try to optimize or model's hyper parameters to see if we can improve upon this score."
   ]
  },
  {
   "cell_type": "markdown",
   "id": "3478e2d5",
   "metadata": {},
   "source": [
    "# Optimizing Logistic Regression Hyperparameters"
   ]
  },
  {
   "cell_type": "markdown",
   "id": "115a8cfa",
   "metadata": {},
   "source": [
    "We will utilize gridsearch cross valdidation to find the best hyper parameters for our model."
   ]
  },
  {
   "cell_type": "code",
   "execution_count": 16,
   "id": "720c636f",
   "metadata": {},
   "outputs": [],
   "source": [
    "from sklearn.model_selection import cross_val_score\n",
    "from sklearn.pipeline import Pipeline\n",
    "from sklearn.preprocessing import StandardScaler\n",
    "from sklearn.decomposition import PCA\n",
    "from sklearn.model_selection import GridSearchCV\n",
    "\n",
    "\n",
    "\n",
    "estimators = [('Scaler', StandardScaler()),\n",
    "              ('Model', LogisticRegression())]\n",
    "\n",
    "pipe = Pipeline(estimators)\n"
   ]
  },
  {
   "cell_type": "code",
   "execution_count": 17,
   "id": "9d9a8299",
   "metadata": {
    "scrolled": true
   },
   "outputs": [
    {
     "name": "stderr",
     "output_type": "stream",
     "text": [
      "/Users/johnfitzpatrick/opt/anaconda3/lib/python3.9/site-packages/sklearn/linear_model/_logistic.py:814: ConvergenceWarning: lbfgs failed to converge (status=1):\n",
      "STOP: TOTAL NO. of ITERATIONS REACHED LIMIT.\n",
      "\n",
      "Increase the number of iterations (max_iter) or scale the data as shown in:\n",
      "    https://scikit-learn.org/stable/modules/preprocessing.html\n",
      "Please also refer to the documentation for alternative solver options:\n",
      "    https://scikit-learn.org/stable/modules/linear_model.html#logistic-regression\n",
      "  n_iter_i = _check_optimize_result(\n",
      "/Users/johnfitzpatrick/opt/anaconda3/lib/python3.9/site-packages/sklearn/linear_model/_logistic.py:814: ConvergenceWarning: lbfgs failed to converge (status=1):\n",
      "STOP: TOTAL NO. of ITERATIONS REACHED LIMIT.\n",
      "\n",
      "Increase the number of iterations (max_iter) or scale the data as shown in:\n",
      "    https://scikit-learn.org/stable/modules/preprocessing.html\n",
      "Please also refer to the documentation for alternative solver options:\n",
      "    https://scikit-learn.org/stable/modules/linear_model.html#logistic-regression\n",
      "  n_iter_i = _check_optimize_result(\n",
      "/Users/johnfitzpatrick/opt/anaconda3/lib/python3.9/site-packages/sklearn/linear_model/_logistic.py:814: ConvergenceWarning: lbfgs failed to converge (status=1):\n",
      "STOP: TOTAL NO. of ITERATIONS REACHED LIMIT.\n",
      "\n",
      "Increase the number of iterations (max_iter) or scale the data as shown in:\n",
      "    https://scikit-learn.org/stable/modules/preprocessing.html\n",
      "Please also refer to the documentation for alternative solver options:\n",
      "    https://scikit-learn.org/stable/modules/linear_model.html#logistic-regression\n",
      "  n_iter_i = _check_optimize_result(\n",
      "/Users/johnfitzpatrick/opt/anaconda3/lib/python3.9/site-packages/sklearn/linear_model/_logistic.py:814: ConvergenceWarning: lbfgs failed to converge (status=1):\n",
      "STOP: TOTAL NO. of ITERATIONS REACHED LIMIT.\n",
      "\n",
      "Increase the number of iterations (max_iter) or scale the data as shown in:\n",
      "    https://scikit-learn.org/stable/modules/preprocessing.html\n",
      "Please also refer to the documentation for alternative solver options:\n",
      "    https://scikit-learn.org/stable/modules/linear_model.html#logistic-regression\n",
      "  n_iter_i = _check_optimize_result(\n",
      "/Users/johnfitzpatrick/opt/anaconda3/lib/python3.9/site-packages/sklearn/linear_model/_logistic.py:814: ConvergenceWarning: lbfgs failed to converge (status=1):\n",
      "STOP: TOTAL NO. of ITERATIONS REACHED LIMIT.\n",
      "\n",
      "Increase the number of iterations (max_iter) or scale the data as shown in:\n",
      "    https://scikit-learn.org/stable/modules/preprocessing.html\n",
      "Please also refer to the documentation for alternative solver options:\n",
      "    https://scikit-learn.org/stable/modules/linear_model.html#logistic-regression\n",
      "  n_iter_i = _check_optimize_result(\n",
      "/Users/johnfitzpatrick/opt/anaconda3/lib/python3.9/site-packages/sklearn/linear_model/_logistic.py:814: ConvergenceWarning: lbfgs failed to converge (status=1):\n",
      "STOP: TOTAL NO. of ITERATIONS REACHED LIMIT.\n",
      "\n",
      "Increase the number of iterations (max_iter) or scale the data as shown in:\n",
      "    https://scikit-learn.org/stable/modules/preprocessing.html\n",
      "Please also refer to the documentation for alternative solver options:\n",
      "    https://scikit-learn.org/stable/modules/linear_model.html#logistic-regression\n",
      "  n_iter_i = _check_optimize_result(\n",
      "/Users/johnfitzpatrick/opt/anaconda3/lib/python3.9/site-packages/sklearn/linear_model/_logistic.py:814: ConvergenceWarning: lbfgs failed to converge (status=1):\n",
      "STOP: TOTAL NO. of ITERATIONS REACHED LIMIT.\n",
      "\n",
      "Increase the number of iterations (max_iter) or scale the data as shown in:\n",
      "    https://scikit-learn.org/stable/modules/preprocessing.html\n",
      "Please also refer to the documentation for alternative solver options:\n",
      "    https://scikit-learn.org/stable/modules/linear_model.html#logistic-regression\n",
      "  n_iter_i = _check_optimize_result(\n",
      "/Users/johnfitzpatrick/opt/anaconda3/lib/python3.9/site-packages/sklearn/linear_model/_logistic.py:814: ConvergenceWarning: lbfgs failed to converge (status=1):\n",
      "STOP: TOTAL NO. of ITERATIONS REACHED LIMIT.\n",
      "\n",
      "Increase the number of iterations (max_iter) or scale the data as shown in:\n",
      "    https://scikit-learn.org/stable/modules/preprocessing.html\n",
      "Please also refer to the documentation for alternative solver options:\n",
      "    https://scikit-learn.org/stable/modules/linear_model.html#logistic-regression\n",
      "  n_iter_i = _check_optimize_result(\n",
      "/Users/johnfitzpatrick/opt/anaconda3/lib/python3.9/site-packages/joblib/externals/loky/process_executor.py:702: UserWarning: A worker stopped while some jobs were given to the executor. This can be caused by a too short worker timeout or by a memory leak.\n",
      "  warnings.warn(\n",
      "/Users/johnfitzpatrick/opt/anaconda3/lib/python3.9/site-packages/sklearn/linear_model/_logistic.py:814: ConvergenceWarning: lbfgs failed to converge (status=1):\n",
      "STOP: TOTAL NO. of ITERATIONS REACHED LIMIT.\n",
      "\n",
      "Increase the number of iterations (max_iter) or scale the data as shown in:\n",
      "    https://scikit-learn.org/stable/modules/preprocessing.html\n",
      "Please also refer to the documentation for alternative solver options:\n",
      "    https://scikit-learn.org/stable/modules/linear_model.html#logistic-regression\n",
      "  n_iter_i = _check_optimize_result(\n",
      "/Users/johnfitzpatrick/opt/anaconda3/lib/python3.9/site-packages/sklearn/linear_model/_logistic.py:814: ConvergenceWarning: lbfgs failed to converge (status=1):\n",
      "STOP: TOTAL NO. of ITERATIONS REACHED LIMIT.\n",
      "\n",
      "Increase the number of iterations (max_iter) or scale the data as shown in:\n",
      "    https://scikit-learn.org/stable/modules/preprocessing.html\n",
      "Please also refer to the documentation for alternative solver options:\n",
      "    https://scikit-learn.org/stable/modules/linear_model.html#logistic-regression\n",
      "  n_iter_i = _check_optimize_result(\n",
      "/Users/johnfitzpatrick/opt/anaconda3/lib/python3.9/site-packages/sklearn/linear_model/_logistic.py:814: ConvergenceWarning: lbfgs failed to converge (status=1):\n",
      "STOP: TOTAL NO. of ITERATIONS REACHED LIMIT.\n",
      "\n",
      "Increase the number of iterations (max_iter) or scale the data as shown in:\n",
      "    https://scikit-learn.org/stable/modules/preprocessing.html\n",
      "Please also refer to the documentation for alternative solver options:\n",
      "    https://scikit-learn.org/stable/modules/linear_model.html#logistic-regression\n",
      "  n_iter_i = _check_optimize_result(\n",
      "/Users/johnfitzpatrick/opt/anaconda3/lib/python3.9/site-packages/sklearn/linear_model/_logistic.py:814: ConvergenceWarning: lbfgs failed to converge (status=1):\n",
      "STOP: TOTAL NO. of ITERATIONS REACHED LIMIT.\n",
      "\n",
      "Increase the number of iterations (max_iter) or scale the data as shown in:\n",
      "    https://scikit-learn.org/stable/modules/preprocessing.html\n",
      "Please also refer to the documentation for alternative solver options:\n",
      "    https://scikit-learn.org/stable/modules/linear_model.html#logistic-regression\n",
      "  n_iter_i = _check_optimize_result(\n",
      "/Users/johnfitzpatrick/opt/anaconda3/lib/python3.9/site-packages/sklearn/linear_model/_logistic.py:814: ConvergenceWarning: lbfgs failed to converge (status=1):\n",
      "STOP: TOTAL NO. of ITERATIONS REACHED LIMIT.\n",
      "\n",
      "Increase the number of iterations (max_iter) or scale the data as shown in:\n",
      "    https://scikit-learn.org/stable/modules/preprocessing.html\n",
      "Please also refer to the documentation for alternative solver options:\n",
      "    https://scikit-learn.org/stable/modules/linear_model.html#logistic-regression\n",
      "  n_iter_i = _check_optimize_result(\n",
      "/Users/johnfitzpatrick/opt/anaconda3/lib/python3.9/site-packages/sklearn/linear_model/_logistic.py:814: ConvergenceWarning: lbfgs failed to converge (status=1):\n",
      "STOP: TOTAL NO. of ITERATIONS REACHED LIMIT.\n",
      "\n",
      "Increase the number of iterations (max_iter) or scale the data as shown in:\n",
      "    https://scikit-learn.org/stable/modules/preprocessing.html\n",
      "Please also refer to the documentation for alternative solver options:\n",
      "    https://scikit-learn.org/stable/modules/linear_model.html#logistic-regression\n",
      "  n_iter_i = _check_optimize_result(\n",
      "/Users/johnfitzpatrick/opt/anaconda3/lib/python3.9/site-packages/sklearn/linear_model/_logistic.py:814: ConvergenceWarning: lbfgs failed to converge (status=1):\n",
      "STOP: TOTAL NO. of ITERATIONS REACHED LIMIT.\n",
      "\n",
      "Increase the number of iterations (max_iter) or scale the data as shown in:\n",
      "    https://scikit-learn.org/stable/modules/preprocessing.html\n",
      "Please also refer to the documentation for alternative solver options:\n",
      "    https://scikit-learn.org/stable/modules/linear_model.html#logistic-regression\n",
      "  n_iter_i = _check_optimize_result(\n"
     ]
    },
    {
     "name": "stderr",
     "output_type": "stream",
     "text": [
      "/Users/johnfitzpatrick/opt/anaconda3/lib/python3.9/site-packages/sklearn/linear_model/_logistic.py:814: ConvergenceWarning: lbfgs failed to converge (status=1):\n",
      "STOP: TOTAL NO. of ITERATIONS REACHED LIMIT.\n",
      "\n",
      "Increase the number of iterations (max_iter) or scale the data as shown in:\n",
      "    https://scikit-learn.org/stable/modules/preprocessing.html\n",
      "Please also refer to the documentation for alternative solver options:\n",
      "    https://scikit-learn.org/stable/modules/linear_model.html#logistic-regression\n",
      "  n_iter_i = _check_optimize_result(\n"
     ]
    }
   ],
   "source": [
    "from sklearn.metrics import f1_score\n",
    "from sklearn.metrics import make_scorer\n",
    "from sklearn.model_selection import RandomizedSearchCV\n",
    "\n",
    "\n",
    "f1_micro= make_scorer(f1_score, average='micro')\n",
    "\n",
    "param_grid = ([\n",
    "    {\n",
    "        'Scaler': [StandardScaler(), None],\n",
    "        'Model': [LogisticRegression(max_iter=1000)],\n",
    "        'Model__class_weight': ['balanced', {0:1, 1:800}, {0:1, 1:700},{0:1, 1:900},{0:1, 1:400},],\n",
    "        'Model__C': [0.00001, 0.0001, 0.001, 0.01, 0.1, 1, 10, 100, 1000, 10000], \n",
    "        #'Dimension_reducer__n_components': [1, 2, 3, 4, 5,6,7,8,9,10]\n",
    "    }]\n",
    ")\n",
    "\n",
    "grid = RandomizedSearchCV(pipe, param_grid,scoring='f1_micro', cv=5, n_jobs=-1)\n",
    "\n",
    "fittedgrid = grid.fit(X_train, y_train)"
   ]
  },
  {
   "cell_type": "markdown",
   "id": "6e7bfae9",
   "metadata": {},
   "source": [
    "* in this girdsearch PCA was not used for the sake of maintaining interpretability\n",
    "* F1_micro was used as it accounts for the percsion and recall, and accounts for class imbalance. This is with the goal of selecting parameters that result in better f1 scores, opposed to using a grid search that scores wtih only accuracy, which we already saw (with our log reg scores of 98%), can yeild a high score but poor perfromance."
   ]
  },
  {
   "cell_type": "code",
   "execution_count": 18,
   "id": "5a3029db",
   "metadata": {
    "scrolled": false
   },
   "outputs": [
    {
     "data": {
      "text/plain": [
       "{'Scaler': None,\n",
       " 'Model__class_weight': 'balanced',\n",
       " 'Model__C': 0.01,\n",
       " 'Model': LogisticRegression(C=0.01, class_weight='balanced', max_iter=1000)}"
      ]
     },
     "execution_count": 18,
     "metadata": {},
     "output_type": "execute_result"
    }
   ],
   "source": [
    "# Best hyperparameters\n",
    "fittedgrid.best_params_"
   ]
  },
  {
   "cell_type": "code",
   "execution_count": 19,
   "id": "594105b6",
   "metadata": {
    "scrolled": false
   },
   "outputs": [
    {
     "name": "stderr",
     "output_type": "stream",
     "text": [
      "/Users/johnfitzpatrick/opt/anaconda3/lib/python3.9/site-packages/sklearn/utils/deprecation.py:87: FutureWarning: Function plot_confusion_matrix is deprecated; Function `plot_confusion_matrix` is deprecated in 1.0 and will be removed in 1.2. Use one of the class methods: ConfusionMatrixDisplay.from_predictions or ConfusionMatrixDisplay.from_estimator.\n",
      "  warnings.warn(msg, category=FutureWarning)\n"
     ]
    },
    {
     "data": {
      "image/png": "[encoded data removed]",
      "text/plain": [
       "<Figure size 432x288 with 2 Axes>"
      ]
     },
     "metadata": {
      "needs_background": "light"
     },
     "output_type": "display_data"
    }
   ],
   "source": [
    "plot_confusion_matrix(fittedgrid.best_estimator_, X_validation, y_validation);"
   ]
  },
  {
   "cell_type": "code",
   "execution_count": 20,
   "id": "6ab3e7e6",
   "metadata": {
    "scrolled": true
   },
   "outputs": [
    {
     "name": "stdout",
     "output_type": "stream",
     "text": [
      "              precision    recall  f1-score   support\n",
      "\n",
      "           0       0.99      0.66      0.79      6743\n",
      "           1       0.02      0.55      0.05       100\n",
      "\n",
      "    accuracy                           0.66      6843\n",
      "   macro avg       0.51      0.61      0.42      6843\n",
      "weighted avg       0.98      0.66      0.78      6843\n",
      "\n"
     ]
    }
   ],
   "source": [
    "from sklearn.metrics import classification_report\n",
    "y_pred=fittedgrid.predict(X_validation)\n",
    "\n",
    "print(classification_report(y_validation, y_pred))"
   ]
  },
  {
   "cell_type": "code",
   "execution_count": 21,
   "id": "b0c0d46c",
   "metadata": {},
   "outputs": [
    {
     "data": {
      "text/html": [
       "<div>\n",
       "<style scoped>\n",
       "    .dataframe tbody tr th:only-of-type {\n",
       "        vertical-align: middle;\n",
       "    }\n",
       "\n",
       "    .dataframe tbody tr th {\n",
       "        vertical-align: top;\n",
       "    }\n",
       "\n",
       "    .dataframe thead th {\n",
       "        text-align: right;\n",
       "    }\n",
       "</style>\n",
       "<table border=\"1\" class=\"dataframe\">\n",
       "  <thead>\n",
       "    <tr style=\"text-align: right;\">\n",
       "      <th></th>\n",
       "      <th>Predicted Non-Injury</th>\n",
       "      <th>Predicted Injury</th>\n",
       "    </tr>\n",
       "  </thead>\n",
       "  <tbody>\n",
       "    <tr>\n",
       "      <th>True Non-Injury</th>\n",
       "      <td>4459</td>\n",
       "      <td>2284</td>\n",
       "    </tr>\n",
       "    <tr>\n",
       "      <th>True Injury</th>\n",
       "      <td>45</td>\n",
       "      <td>55</td>\n",
       "    </tr>\n",
       "  </tbody>\n",
       "</table>\n",
       "</div>"
      ],
      "text/plain": [
       "                 Predicted Non-Injury  Predicted Injury\n",
       "True Non-Injury                  4459              2284\n",
       "True Injury                        45                55"
      ]
     },
     "metadata": {},
     "output_type": "display_data"
    }
   ],
   "source": [
    "\n",
    "# Get class predictions\n",
    "y_pred = fittedgrid.predict(X_validation)\n",
    "\n",
    "# Generate confusion matrix\n",
    "cf_matrix = confusion_matrix(y_validation, y_pred)\n",
    "\n",
    "# label rows and columns\n",
    "cf_df = pd.DataFrame(\n",
    "    cf_matrix, \n",
    "    columns=[\"Predicted Non-Injury\", \"Predicted Injury\"],\n",
    "    index=[\"True Non-Injury\", \"True Injury\"]\n",
    ")\n",
    "\n",
    "display(cf_df)"
   ]
  },
  {
   "cell_type": "markdown",
   "id": "86778130",
   "metadata": {},
   "source": [
    "We have raised our recall score to .48, however we have over 2000 false injuries, and 52 false-non-injuries, which results in a low f1-score of 0.04, and low percision of 0.02.\n",
    "\n",
    "These low f1-scores, could be due to the highly imbalanced data set. We will try to correct this bellow by implementing up sampling of the injuries or down sampling of the non-injuries. "
   ]
  },
  {
   "cell_type": "markdown",
   "id": "ebe0c37f",
   "metadata": {},
   "source": [
    "#  Upsampling Injuries to .5 of Non-injury Class"
   ]
  },
  {
   "cell_type": "code",
   "execution_count": 22,
   "id": "899bdbd6",
   "metadata": {},
   "outputs": [
    {
     "name": "stdout",
     "output_type": "stream",
     "text": [
      "Number of injuries in training set: 366\n"
     ]
    }
   ],
   "source": [
    "# number of injuries\n",
    "print('Number of injuries in training set:', X_train[y_train == 1].shape[0])"
   ]
  },
  {
   "cell_type": "markdown",
   "id": "3fe9f1d9",
   "metadata": {},
   "source": [
    "There are currently 366 injuries in out training set"
   ]
  },
  {
   "cell_type": "code",
   "execution_count": 23,
   "id": "a1d0278e",
   "metadata": {},
   "outputs": [
    {
     "name": "stdout",
     "output_type": "stream",
     "text": [
      "Number of class 1 examples after: 13501\n"
     ]
    }
   ],
   "source": [
    "#resampling the data\n",
    "from sklearn.utils import resample\n",
    "\n",
    "\n",
    "X_upsampled, y_upsampled = resample(X_train[y_train == 1], \n",
    "                                    y_train[y_train == 1], \n",
    "                                    replace=True, \n",
    "                                    n_samples=X_train[y_train == 0].shape[0]//2,  # upsampling so we add half the number of majority to the minority\n",
    "                                    random_state=123) \n",
    "\n",
    "print('Number of class 1 examples after:', X_upsampled.shape[0])\n",
    "\n",
    "# Combine upsample with original data\n",
    "X_train_US1 = np.vstack((X_train[y_train == 0], X_upsampled))\n",
    "y_train_US1 = np.hstack((y_train[y_train == 0], y_upsampled))\n"
   ]
  },
  {
   "cell_type": "code",
   "execution_count": 24,
   "id": "6a7920cc",
   "metadata": {},
   "outputs": [
    {
     "data": {
      "text/plain": [
       "(array([0, 1]), array([27003,   366]))"
      ]
     },
     "execution_count": 24,
     "metadata": {},
     "output_type": "execute_result"
    }
   ],
   "source": [
    "np.unique(y_train, return_counts= True)"
   ]
  },
  {
   "cell_type": "code",
   "execution_count": 25,
   "id": "f100aa4f",
   "metadata": {},
   "outputs": [
    {
     "data": {
      "text/plain": [
       "(array([0, 1]), array([27003, 13501]))"
      ]
     },
     "execution_count": 25,
     "metadata": {},
     "output_type": "execute_result"
    }
   ],
   "source": [
    "#Checking spread of each type\n",
    "np.unique(y_train_US1, return_counts= True)"
   ]
  },
  {
   "cell_type": "markdown",
   "id": "01546704",
   "metadata": {},
   "source": [
    "We can see that our new y_train has 13,501 injuries comparedd to the 27,000 non injured. We will conduct a gridsearch to optimize a logistic regression for this up sampled data set."
   ]
  },
  {
   "cell_type": "markdown",
   "id": "99b777a0",
   "metadata": {},
   "source": [
    "### Grid search"
   ]
  },
  {
   "cell_type": "code",
   "execution_count": null,
   "id": "fea86136",
   "metadata": {},
   "outputs": [
    {
     "name": "stderr",
     "output_type": "stream",
     "text": [
      "/Users/johnfitzpatrick/opt/anaconda3/lib/python3.9/site-packages/joblib/externals/loky/process_executor.py:702: UserWarning: A worker stopped while some jobs were given to the executor. This can be caused by a too short worker timeout or by a memory leak.\n",
      "  warnings.warn(\n",
      "/Users/johnfitzpatrick/opt/anaconda3/lib/python3.9/site-packages/sklearn/linear_model/_logistic.py:814: ConvergenceWarning: lbfgs failed to converge (status=1):\n",
      "STOP: TOTAL NO. of ITERATIONS REACHED LIMIT.\n",
      "\n",
      "Increase the number of iterations (max_iter) or scale the data as shown in:\n",
      "    https://scikit-learn.org/stable/modules/preprocessing.html\n",
      "Please also refer to the documentation for alternative solver options:\n",
      "    https://scikit-learn.org/stable/modules/linear_model.html#logistic-regression\n",
      "  n_iter_i = _check_optimize_result(\n",
      "/Users/johnfitzpatrick/opt/anaconda3/lib/python3.9/site-packages/sklearn/linear_model/_logistic.py:814: ConvergenceWarning: lbfgs failed to converge (status=1):\n",
      "STOP: TOTAL NO. of ITERATIONS REACHED LIMIT.\n",
      "\n",
      "Increase the number of iterations (max_iter) or scale the data as shown in:\n",
      "    https://scikit-learn.org/stable/modules/preprocessing.html\n",
      "Please also refer to the documentation for alternative solver options:\n",
      "    https://scikit-learn.org/stable/modules/linear_model.html#logistic-regression\n",
      "  n_iter_i = _check_optimize_result(\n",
      "/Users/johnfitzpatrick/opt/anaconda3/lib/python3.9/site-packages/sklearn/linear_model/_logistic.py:814: ConvergenceWarning: lbfgs failed to converge (status=1):\n",
      "STOP: TOTAL NO. of ITERATIONS REACHED LIMIT.\n",
      "\n",
      "Increase the number of iterations (max_iter) or scale the data as shown in:\n",
      "    https://scikit-learn.org/stable/modules/preprocessing.html\n",
      "Please also refer to the documentation for alternative solver options:\n",
      "    https://scikit-learn.org/stable/modules/linear_model.html#logistic-regression\n",
      "  n_iter_i = _check_optimize_result(\n",
      "/Users/johnfitzpatrick/opt/anaconda3/lib/python3.9/site-packages/sklearn/linear_model/_logistic.py:814: ConvergenceWarning: lbfgs failed to converge (status=1):\n",
      "STOP: TOTAL NO. of ITERATIONS REACHED LIMIT.\n",
      "\n",
      "Increase the number of iterations (max_iter) or scale the data as shown in:\n",
      "    https://scikit-learn.org/stable/modules/preprocessing.html\n",
      "Please also refer to the documentation for alternative solver options:\n",
      "    https://scikit-learn.org/stable/modules/linear_model.html#logistic-regression\n",
      "  n_iter_i = _check_optimize_result(\n",
      "/Users/johnfitzpatrick/opt/anaconda3/lib/python3.9/site-packages/sklearn/linear_model/_logistic.py:814: ConvergenceWarning: lbfgs failed to converge (status=1):\n",
      "STOP: TOTAL NO. of ITERATIONS REACHED LIMIT.\n",
      "\n",
      "Increase the number of iterations (max_iter) or scale the data as shown in:\n",
      "    https://scikit-learn.org/stable/modules/preprocessing.html\n",
      "Please also refer to the documentation for alternative solver options:\n",
      "    https://scikit-learn.org/stable/modules/linear_model.html#logistic-regression\n",
      "  n_iter_i = _check_optimize_result(\n",
      "/Users/johnfitzpatrick/opt/anaconda3/lib/python3.9/site-packages/sklearn/linear_model/_logistic.py:814: ConvergenceWarning: lbfgs failed to converge (status=1):\n",
      "STOP: TOTAL NO. of ITERATIONS REACHED LIMIT.\n",
      "\n",
      "Increase the number of iterations (max_iter) or scale the data as shown in:\n",
      "    https://scikit-learn.org/stable/modules/preprocessing.html\n",
      "Please also refer to the documentation for alternative solver options:\n",
      "    https://scikit-learn.org/stable/modules/linear_model.html#logistic-regression\n",
      "  n_iter_i = _check_optimize_result(\n",
      "/Users/johnfitzpatrick/opt/anaconda3/lib/python3.9/site-packages/sklearn/linear_model/_logistic.py:814: ConvergenceWarning: lbfgs failed to converge (status=1):\n",
      "STOP: TOTAL NO. of ITERATIONS REACHED LIMIT.\n",
      "\n",
      "Increase the number of iterations (max_iter) or scale the data as shown in:\n",
      "    https://scikit-learn.org/stable/modules/preprocessing.html\n",
      "Please also refer to the documentation for alternative solver options:\n",
      "    https://scikit-learn.org/stable/modules/linear_model.html#logistic-regression\n",
      "  n_iter_i = _check_optimize_result(\n",
      "/Users/johnfitzpatrick/opt/anaconda3/lib/python3.9/site-packages/sklearn/linear_model/_logistic.py:814: ConvergenceWarning: lbfgs failed to converge (status=1):\n",
      "STOP: TOTAL NO. of ITERATIONS REACHED LIMIT.\n",
      "\n",
      "Increase the number of iterations (max_iter) or scale the data as shown in:\n",
      "    https://scikit-learn.org/stable/modules/preprocessing.html\n",
      "Please also refer to the documentation for alternative solver options:\n",
      "    https://scikit-learn.org/stable/modules/linear_model.html#logistic-regression\n",
      "  n_iter_i = _check_optimize_result(\n",
      "/Users/johnfitzpatrick/opt/anaconda3/lib/python3.9/site-packages/sklearn/linear_model/_logistic.py:814: ConvergenceWarning: lbfgs failed to converge (status=1):\n",
      "STOP: TOTAL NO. of ITERATIONS REACHED LIMIT.\n",
      "\n",
      "Increase the number of iterations (max_iter) or scale the data as shown in:\n",
      "    https://scikit-learn.org/stable/modules/preprocessing.html\n",
      "Please also refer to the documentation for alternative solver options:\n",
      "    https://scikit-learn.org/stable/modules/linear_model.html#logistic-regression\n",
      "  n_iter_i = _check_optimize_result(\n",
      "/Users/johnfitzpatrick/opt/anaconda3/lib/python3.9/site-packages/sklearn/linear_model/_logistic.py:814: ConvergenceWarning: lbfgs failed to converge (status=1):\n",
      "STOP: TOTAL NO. of ITERATIONS REACHED LIMIT.\n",
      "\n",
      "Increase the number of iterations (max_iter) or scale the data as shown in:\n",
      "    https://scikit-learn.org/stable/modules/preprocessing.html\n",
      "Please also refer to the documentation for alternative solver options:\n",
      "    https://scikit-learn.org/stable/modules/linear_model.html#logistic-regression\n",
      "  n_iter_i = _check_optimize_result(\n",
      "/Users/johnfitzpatrick/opt/anaconda3/lib/python3.9/site-packages/sklearn/linear_model/_logistic.py:814: ConvergenceWarning: lbfgs failed to converge (status=1):\n",
      "STOP: TOTAL NO. of ITERATIONS REACHED LIMIT.\n",
      "\n",
      "Increase the number of iterations (max_iter) or scale the data as shown in:\n",
      "    https://scikit-learn.org/stable/modules/preprocessing.html\n",
      "Please also refer to the documentation for alternative solver options:\n",
      "    https://scikit-learn.org/stable/modules/linear_model.html#logistic-regression\n",
      "  n_iter_i = _check_optimize_result(\n",
      "/Users/johnfitzpatrick/opt/anaconda3/lib/python3.9/site-packages/sklearn/linear_model/_logistic.py:814: ConvergenceWarning: lbfgs failed to converge (status=1):\n",
      "STOP: TOTAL NO. of ITERATIONS REACHED LIMIT.\n",
      "\n",
      "Increase the number of iterations (max_iter) or scale the data as shown in:\n",
      "    https://scikit-learn.org/stable/modules/preprocessing.html\n",
      "Please also refer to the documentation for alternative solver options:\n",
      "    https://scikit-learn.org/stable/modules/linear_model.html#logistic-regression\n",
      "  n_iter_i = _check_optimize_result(\n",
      "/Users/johnfitzpatrick/opt/anaconda3/lib/python3.9/site-packages/sklearn/linear_model/_logistic.py:814: ConvergenceWarning: lbfgs failed to converge (status=1):\n",
      "STOP: TOTAL NO. of ITERATIONS REACHED LIMIT.\n",
      "\n",
      "Increase the number of iterations (max_iter) or scale the data as shown in:\n",
      "    https://scikit-learn.org/stable/modules/preprocessing.html\n",
      "Please also refer to the documentation for alternative solver options:\n",
      "    https://scikit-learn.org/stable/modules/linear_model.html#logistic-regression\n",
      "  n_iter_i = _check_optimize_result(\n",
      "/Users/johnfitzpatrick/opt/anaconda3/lib/python3.9/site-packages/sklearn/linear_model/_logistic.py:814: ConvergenceWarning: lbfgs failed to converge (status=1):\n",
      "STOP: TOTAL NO. of ITERATIONS REACHED LIMIT.\n",
      "\n",
      "Increase the number of iterations (max_iter) or scale the data as shown in:\n",
      "    https://scikit-learn.org/stable/modules/preprocessing.html\n",
      "Please also refer to the documentation for alternative solver options:\n",
      "    https://scikit-learn.org/stable/modules/linear_model.html#logistic-regression\n",
      "  n_iter_i = _check_optimize_result(\n",
      "/Users/johnfitzpatrick/opt/anaconda3/lib/python3.9/site-packages/sklearn/linear_model/_logistic.py:814: ConvergenceWarning: lbfgs failed to converge (status=1):\n",
      "STOP: TOTAL NO. of ITERATIONS REACHED LIMIT.\n",
      "\n",
      "Increase the number of iterations (max_iter) or scale the data as shown in:\n",
      "    https://scikit-learn.org/stable/modules/preprocessing.html\n",
      "Please also refer to the documentation for alternative solver options:\n",
      "    https://scikit-learn.org/stable/modules/linear_model.html#logistic-regression\n",
      "  n_iter_i = _check_optimize_result(\n"
     ]
    },
    {
     "name": "stderr",
     "output_type": "stream",
     "text": [
      "/Users/johnfitzpatrick/opt/anaconda3/lib/python3.9/site-packages/sklearn/linear_model/_logistic.py:814: ConvergenceWarning: lbfgs failed to converge (status=1):\n",
      "STOP: TOTAL NO. of ITERATIONS REACHED LIMIT.\n",
      "\n",
      "Increase the number of iterations (max_iter) or scale the data as shown in:\n",
      "    https://scikit-learn.org/stable/modules/preprocessing.html\n",
      "Please also refer to the documentation for alternative solver options:\n",
      "    https://scikit-learn.org/stable/modules/linear_model.html#logistic-regression\n",
      "  n_iter_i = _check_optimize_result(\n",
      "/Users/johnfitzpatrick/opt/anaconda3/lib/python3.9/site-packages/sklearn/linear_model/_logistic.py:814: ConvergenceWarning: lbfgs failed to converge (status=1):\n",
      "STOP: TOTAL NO. of ITERATIONS REACHED LIMIT.\n",
      "\n",
      "Increase the number of iterations (max_iter) or scale the data as shown in:\n",
      "    https://scikit-learn.org/stable/modules/preprocessing.html\n",
      "Please also refer to the documentation for alternative solver options:\n",
      "    https://scikit-learn.org/stable/modules/linear_model.html#logistic-regression\n",
      "  n_iter_i = _check_optimize_result(\n",
      "/Users/johnfitzpatrick/opt/anaconda3/lib/python3.9/site-packages/sklearn/linear_model/_logistic.py:814: ConvergenceWarning: lbfgs failed to converge (status=1):\n",
      "STOP: TOTAL NO. of ITERATIONS REACHED LIMIT.\n",
      "\n",
      "Increase the number of iterations (max_iter) or scale the data as shown in:\n",
      "    https://scikit-learn.org/stable/modules/preprocessing.html\n",
      "Please also refer to the documentation for alternative solver options:\n",
      "    https://scikit-learn.org/stable/modules/linear_model.html#logistic-regression\n",
      "  n_iter_i = _check_optimize_result(\n",
      "/Users/johnfitzpatrick/opt/anaconda3/lib/python3.9/site-packages/sklearn/linear_model/_logistic.py:814: ConvergenceWarning: lbfgs failed to converge (status=1):\n",
      "STOP: TOTAL NO. of ITERATIONS REACHED LIMIT.\n",
      "\n",
      "Increase the number of iterations (max_iter) or scale the data as shown in:\n",
      "    https://scikit-learn.org/stable/modules/preprocessing.html\n",
      "Please also refer to the documentation for alternative solver options:\n",
      "    https://scikit-learn.org/stable/modules/linear_model.html#logistic-regression\n",
      "  n_iter_i = _check_optimize_result(\n",
      "/Users/johnfitzpatrick/opt/anaconda3/lib/python3.9/site-packages/sklearn/linear_model/_logistic.py:814: ConvergenceWarning: lbfgs failed to converge (status=1):\n",
      "STOP: TOTAL NO. of ITERATIONS REACHED LIMIT.\n",
      "\n",
      "Increase the number of iterations (max_iter) or scale the data as shown in:\n",
      "    https://scikit-learn.org/stable/modules/preprocessing.html\n",
      "Please also refer to the documentation for alternative solver options:\n",
      "    https://scikit-learn.org/stable/modules/linear_model.html#logistic-regression\n",
      "  n_iter_i = _check_optimize_result(\n",
      "/Users/johnfitzpatrick/opt/anaconda3/lib/python3.9/site-packages/sklearn/linear_model/_logistic.py:814: ConvergenceWarning: lbfgs failed to converge (status=1):\n",
      "STOP: TOTAL NO. of ITERATIONS REACHED LIMIT.\n",
      "\n",
      "Increase the number of iterations (max_iter) or scale the data as shown in:\n",
      "    https://scikit-learn.org/stable/modules/preprocessing.html\n",
      "Please also refer to the documentation for alternative solver options:\n",
      "    https://scikit-learn.org/stable/modules/linear_model.html#logistic-regression\n",
      "  n_iter_i = _check_optimize_result(\n",
      "/Users/johnfitzpatrick/opt/anaconda3/lib/python3.9/site-packages/sklearn/linear_model/_logistic.py:814: ConvergenceWarning: lbfgs failed to converge (status=1):\n",
      "STOP: TOTAL NO. of ITERATIONS REACHED LIMIT.\n",
      "\n",
      "Increase the number of iterations (max_iter) or scale the data as shown in:\n",
      "    https://scikit-learn.org/stable/modules/preprocessing.html\n",
      "Please also refer to the documentation for alternative solver options:\n",
      "    https://scikit-learn.org/stable/modules/linear_model.html#logistic-regression\n",
      "  n_iter_i = _check_optimize_result(\n",
      "/Users/johnfitzpatrick/opt/anaconda3/lib/python3.9/site-packages/sklearn/linear_model/_logistic.py:814: ConvergenceWarning: lbfgs failed to converge (status=1):\n",
      "STOP: TOTAL NO. of ITERATIONS REACHED LIMIT.\n",
      "\n",
      "Increase the number of iterations (max_iter) or scale the data as shown in:\n",
      "    https://scikit-learn.org/stable/modules/preprocessing.html\n",
      "Please also refer to the documentation for alternative solver options:\n",
      "    https://scikit-learn.org/stable/modules/linear_model.html#logistic-regression\n",
      "  n_iter_i = _check_optimize_result(\n",
      "/Users/johnfitzpatrick/opt/anaconda3/lib/python3.9/site-packages/sklearn/linear_model/_logistic.py:814: ConvergenceWarning: lbfgs failed to converge (status=1):\n",
      "STOP: TOTAL NO. of ITERATIONS REACHED LIMIT.\n",
      "\n",
      "Increase the number of iterations (max_iter) or scale the data as shown in:\n",
      "    https://scikit-learn.org/stable/modules/preprocessing.html\n",
      "Please also refer to the documentation for alternative solver options:\n",
      "    https://scikit-learn.org/stable/modules/linear_model.html#logistic-regression\n",
      "  n_iter_i = _check_optimize_result(\n",
      "/Users/johnfitzpatrick/opt/anaconda3/lib/python3.9/site-packages/sklearn/linear_model/_logistic.py:814: ConvergenceWarning: lbfgs failed to converge (status=1):\n",
      "STOP: TOTAL NO. of ITERATIONS REACHED LIMIT.\n",
      "\n",
      "Increase the number of iterations (max_iter) or scale the data as shown in:\n",
      "    https://scikit-learn.org/stable/modules/preprocessing.html\n",
      "Please also refer to the documentation for alternative solver options:\n",
      "    https://scikit-learn.org/stable/modules/linear_model.html#logistic-regression\n",
      "  n_iter_i = _check_optimize_result(\n",
      "/Users/johnfitzpatrick/opt/anaconda3/lib/python3.9/site-packages/sklearn/linear_model/_logistic.py:814: ConvergenceWarning: lbfgs failed to converge (status=1):\n",
      "STOP: TOTAL NO. of ITERATIONS REACHED LIMIT.\n",
      "\n",
      "Increase the number of iterations (max_iter) or scale the data as shown in:\n",
      "    https://scikit-learn.org/stable/modules/preprocessing.html\n",
      "Please also refer to the documentation for alternative solver options:\n",
      "    https://scikit-learn.org/stable/modules/linear_model.html#logistic-regression\n",
      "  n_iter_i = _check_optimize_result(\n",
      "/Users/johnfitzpatrick/opt/anaconda3/lib/python3.9/site-packages/sklearn/linear_model/_logistic.py:814: ConvergenceWarning: lbfgs failed to converge (status=1):\n",
      "STOP: TOTAL NO. of ITERATIONS REACHED LIMIT.\n",
      "\n",
      "Increase the number of iterations (max_iter) or scale the data as shown in:\n",
      "    https://scikit-learn.org/stable/modules/preprocessing.html\n",
      "Please also refer to the documentation for alternative solver options:\n",
      "    https://scikit-learn.org/stable/modules/linear_model.html#logistic-regression\n",
      "  n_iter_i = _check_optimize_result(\n",
      "/Users/johnfitzpatrick/opt/anaconda3/lib/python3.9/site-packages/sklearn/linear_model/_logistic.py:814: ConvergenceWarning: lbfgs failed to converge (status=1):\n",
      "STOP: TOTAL NO. of ITERATIONS REACHED LIMIT.\n",
      "\n",
      "Increase the number of iterations (max_iter) or scale the data as shown in:\n",
      "    https://scikit-learn.org/stable/modules/preprocessing.html\n",
      "Please also refer to the documentation for alternative solver options:\n",
      "    https://scikit-learn.org/stable/modules/linear_model.html#logistic-regression\n",
      "  n_iter_i = _check_optimize_result(\n",
      "/Users/johnfitzpatrick/opt/anaconda3/lib/python3.9/site-packages/sklearn/linear_model/_logistic.py:814: ConvergenceWarning: lbfgs failed to converge (status=1):\n",
      "STOP: TOTAL NO. of ITERATIONS REACHED LIMIT.\n",
      "\n",
      "Increase the number of iterations (max_iter) or scale the data as shown in:\n",
      "    https://scikit-learn.org/stable/modules/preprocessing.html\n",
      "Please also refer to the documentation for alternative solver options:\n",
      "    https://scikit-learn.org/stable/modules/linear_model.html#logistic-regression\n",
      "  n_iter_i = _check_optimize_result(\n",
      "/Users/johnfitzpatrick/opt/anaconda3/lib/python3.9/site-packages/sklearn/linear_model/_logistic.py:814: ConvergenceWarning: lbfgs failed to converge (status=1):\n",
      "STOP: TOTAL NO. of ITERATIONS REACHED LIMIT.\n",
      "\n",
      "Increase the number of iterations (max_iter) or scale the data as shown in:\n",
      "    https://scikit-learn.org/stable/modules/preprocessing.html\n",
      "Please also refer to the documentation for alternative solver options:\n",
      "    https://scikit-learn.org/stable/modules/linear_model.html#logistic-regression\n",
      "  n_iter_i = _check_optimize_result(\n",
      "/Users/johnfitzpatrick/opt/anaconda3/lib/python3.9/site-packages/sklearn/linear_model/_logistic.py:814: ConvergenceWarning: lbfgs failed to converge (status=1):\n",
      "STOP: TOTAL NO. of ITERATIONS REACHED LIMIT.\n",
      "\n",
      "Increase the number of iterations (max_iter) or scale the data as shown in:\n",
      "    https://scikit-learn.org/stable/modules/preprocessing.html\n",
      "Please also refer to the documentation for alternative solver options:\n",
      "    https://scikit-learn.org/stable/modules/linear_model.html#logistic-regression\n",
      "  n_iter_i = _check_optimize_result(\n"
     ]
    },
    {
     "name": "stderr",
     "output_type": "stream",
     "text": [
      "/Users/johnfitzpatrick/opt/anaconda3/lib/python3.9/site-packages/sklearn/linear_model/_logistic.py:814: ConvergenceWarning: lbfgs failed to converge (status=1):\n",
      "STOP: TOTAL NO. of ITERATIONS REACHED LIMIT.\n",
      "\n",
      "Increase the number of iterations (max_iter) or scale the data as shown in:\n",
      "    https://scikit-learn.org/stable/modules/preprocessing.html\n",
      "Please also refer to the documentation for alternative solver options:\n",
      "    https://scikit-learn.org/stable/modules/linear_model.html#logistic-regression\n",
      "  n_iter_i = _check_optimize_result(\n",
      "/Users/johnfitzpatrick/opt/anaconda3/lib/python3.9/site-packages/sklearn/linear_model/_logistic.py:814: ConvergenceWarning: lbfgs failed to converge (status=1):\n",
      "STOP: TOTAL NO. of ITERATIONS REACHED LIMIT.\n",
      "\n",
      "Increase the number of iterations (max_iter) or scale the data as shown in:\n",
      "    https://scikit-learn.org/stable/modules/preprocessing.html\n",
      "Please also refer to the documentation for alternative solver options:\n",
      "    https://scikit-learn.org/stable/modules/linear_model.html#logistic-regression\n",
      "  n_iter_i = _check_optimize_result(\n",
      "/Users/johnfitzpatrick/opt/anaconda3/lib/python3.9/site-packages/sklearn/linear_model/_logistic.py:814: ConvergenceWarning: lbfgs failed to converge (status=1):\n",
      "STOP: TOTAL NO. of ITERATIONS REACHED LIMIT.\n",
      "\n",
      "Increase the number of iterations (max_iter) or scale the data as shown in:\n",
      "    https://scikit-learn.org/stable/modules/preprocessing.html\n",
      "Please also refer to the documentation for alternative solver options:\n",
      "    https://scikit-learn.org/stable/modules/linear_model.html#logistic-regression\n",
      "  n_iter_i = _check_optimize_result(\n",
      "/Users/johnfitzpatrick/opt/anaconda3/lib/python3.9/site-packages/sklearn/linear_model/_logistic.py:814: ConvergenceWarning: lbfgs failed to converge (status=1):\n",
      "STOP: TOTAL NO. of ITERATIONS REACHED LIMIT.\n",
      "\n",
      "Increase the number of iterations (max_iter) or scale the data as shown in:\n",
      "    https://scikit-learn.org/stable/modules/preprocessing.html\n",
      "Please also refer to the documentation for alternative solver options:\n",
      "    https://scikit-learn.org/stable/modules/linear_model.html#logistic-regression\n",
      "  n_iter_i = _check_optimize_result(\n",
      "/Users/johnfitzpatrick/opt/anaconda3/lib/python3.9/site-packages/sklearn/linear_model/_logistic.py:814: ConvergenceWarning: lbfgs failed to converge (status=1):\n",
      "STOP: TOTAL NO. of ITERATIONS REACHED LIMIT.\n",
      "\n",
      "Increase the number of iterations (max_iter) or scale the data as shown in:\n",
      "    https://scikit-learn.org/stable/modules/preprocessing.html\n",
      "Please also refer to the documentation for alternative solver options:\n",
      "    https://scikit-learn.org/stable/modules/linear_model.html#logistic-regression\n",
      "  n_iter_i = _check_optimize_result(\n",
      "/Users/johnfitzpatrick/opt/anaconda3/lib/python3.9/site-packages/sklearn/linear_model/_logistic.py:814: ConvergenceWarning: lbfgs failed to converge (status=1):\n",
      "STOP: TOTAL NO. of ITERATIONS REACHED LIMIT.\n",
      "\n",
      "Increase the number of iterations (max_iter) or scale the data as shown in:\n",
      "    https://scikit-learn.org/stable/modules/preprocessing.html\n",
      "Please also refer to the documentation for alternative solver options:\n",
      "    https://scikit-learn.org/stable/modules/linear_model.html#logistic-regression\n",
      "  n_iter_i = _check_optimize_result(\n",
      "/Users/johnfitzpatrick/opt/anaconda3/lib/python3.9/site-packages/sklearn/linear_model/_logistic.py:814: ConvergenceWarning: lbfgs failed to converge (status=1):\n",
      "STOP: TOTAL NO. of ITERATIONS REACHED LIMIT.\n",
      "\n",
      "Increase the number of iterations (max_iter) or scale the data as shown in:\n",
      "    https://scikit-learn.org/stable/modules/preprocessing.html\n",
      "Please also refer to the documentation for alternative solver options:\n",
      "    https://scikit-learn.org/stable/modules/linear_model.html#logistic-regression\n",
      "  n_iter_i = _check_optimize_result(\n",
      "/Users/johnfitzpatrick/opt/anaconda3/lib/python3.9/site-packages/sklearn/linear_model/_logistic.py:814: ConvergenceWarning: lbfgs failed to converge (status=1):\n",
      "STOP: TOTAL NO. of ITERATIONS REACHED LIMIT.\n",
      "\n",
      "Increase the number of iterations (max_iter) or scale the data as shown in:\n",
      "    https://scikit-learn.org/stable/modules/preprocessing.html\n",
      "Please also refer to the documentation for alternative solver options:\n",
      "    https://scikit-learn.org/stable/modules/linear_model.html#logistic-regression\n",
      "  n_iter_i = _check_optimize_result(\n",
      "/Users/johnfitzpatrick/opt/anaconda3/lib/python3.9/site-packages/sklearn/linear_model/_logistic.py:814: ConvergenceWarning: lbfgs failed to converge (status=1):\n",
      "STOP: TOTAL NO. of ITERATIONS REACHED LIMIT.\n",
      "\n",
      "Increase the number of iterations (max_iter) or scale the data as shown in:\n",
      "    https://scikit-learn.org/stable/modules/preprocessing.html\n",
      "Please also refer to the documentation for alternative solver options:\n",
      "    https://scikit-learn.org/stable/modules/linear_model.html#logistic-regression\n",
      "  n_iter_i = _check_optimize_result(\n",
      "/Users/johnfitzpatrick/opt/anaconda3/lib/python3.9/site-packages/sklearn/linear_model/_logistic.py:814: ConvergenceWarning: lbfgs failed to converge (status=1):\n",
      "STOP: TOTAL NO. of ITERATIONS REACHED LIMIT.\n",
      "\n",
      "Increase the number of iterations (max_iter) or scale the data as shown in:\n",
      "    https://scikit-learn.org/stable/modules/preprocessing.html\n",
      "Please also refer to the documentation for alternative solver options:\n",
      "    https://scikit-learn.org/stable/modules/linear_model.html#logistic-regression\n",
      "  n_iter_i = _check_optimize_result(\n",
      "/Users/johnfitzpatrick/opt/anaconda3/lib/python3.9/site-packages/sklearn/linear_model/_logistic.py:814: ConvergenceWarning: lbfgs failed to converge (status=1):\n",
      "STOP: TOTAL NO. of ITERATIONS REACHED LIMIT.\n",
      "\n",
      "Increase the number of iterations (max_iter) or scale the data as shown in:\n",
      "    https://scikit-learn.org/stable/modules/preprocessing.html\n",
      "Please also refer to the documentation for alternative solver options:\n",
      "    https://scikit-learn.org/stable/modules/linear_model.html#logistic-regression\n",
      "  n_iter_i = _check_optimize_result(\n",
      "/Users/johnfitzpatrick/opt/anaconda3/lib/python3.9/site-packages/sklearn/linear_model/_logistic.py:814: ConvergenceWarning: lbfgs failed to converge (status=1):\n",
      "STOP: TOTAL NO. of ITERATIONS REACHED LIMIT.\n",
      "\n",
      "Increase the number of iterations (max_iter) or scale the data as shown in:\n",
      "    https://scikit-learn.org/stable/modules/preprocessing.html\n",
      "Please also refer to the documentation for alternative solver options:\n",
      "    https://scikit-learn.org/stable/modules/linear_model.html#logistic-regression\n",
      "  n_iter_i = _check_optimize_result(\n",
      "/Users/johnfitzpatrick/opt/anaconda3/lib/python3.9/site-packages/sklearn/linear_model/_logistic.py:814: ConvergenceWarning: lbfgs failed to converge (status=1):\n",
      "STOP: TOTAL NO. of ITERATIONS REACHED LIMIT.\n",
      "\n",
      "Increase the number of iterations (max_iter) or scale the data as shown in:\n",
      "    https://scikit-learn.org/stable/modules/preprocessing.html\n",
      "Please also refer to the documentation for alternative solver options:\n",
      "    https://scikit-learn.org/stable/modules/linear_model.html#logistic-regression\n",
      "  n_iter_i = _check_optimize_result(\n",
      "/Users/johnfitzpatrick/opt/anaconda3/lib/python3.9/site-packages/sklearn/linear_model/_logistic.py:814: ConvergenceWarning: lbfgs failed to converge (status=1):\n",
      "STOP: TOTAL NO. of ITERATIONS REACHED LIMIT.\n",
      "\n",
      "Increase the number of iterations (max_iter) or scale the data as shown in:\n",
      "    https://scikit-learn.org/stable/modules/preprocessing.html\n",
      "Please also refer to the documentation for alternative solver options:\n",
      "    https://scikit-learn.org/stable/modules/linear_model.html#logistic-regression\n",
      "  n_iter_i = _check_optimize_result(\n",
      "/Users/johnfitzpatrick/opt/anaconda3/lib/python3.9/site-packages/sklearn/linear_model/_logistic.py:814: ConvergenceWarning: lbfgs failed to converge (status=1):\n",
      "STOP: TOTAL NO. of ITERATIONS REACHED LIMIT.\n",
      "\n",
      "Increase the number of iterations (max_iter) or scale the data as shown in:\n",
      "    https://scikit-learn.org/stable/modules/preprocessing.html\n",
      "Please also refer to the documentation for alternative solver options:\n",
      "    https://scikit-learn.org/stable/modules/linear_model.html#logistic-regression\n",
      "  n_iter_i = _check_optimize_result(\n"
     ]
    }
   ],
   "source": [
    "param_grid = ([\n",
    "    {\n",
    "        'Scaler': [StandardScaler(), None],\n",
    "        'Model': [LogisticRegression(max_iter=1000)],\n",
    "        'Model__class_weight': ['balanced', {0:1, 1:1000},{0:1, 1:300},],\n",
    "        'Model__C': [0.00001, 0.0001, 0.001, 0.01, 0.1, 1, 10, 100, 1000],\n",
    "    }]\n",
    ")\n",
    "\n",
    "grid = GridSearchCV(pipe, param_grid,scoring=f1_micro, cv=5, n_jobs=-1) \n",
    "\n",
    "fittedgrid_US1 = grid.fit(X_train_US1, y_train_US1)"
   ]
  },
  {
   "cell_type": "code",
   "execution_count": null,
   "id": "f3cfc2d3",
   "metadata": {
    "scrolled": false
   },
   "outputs": [],
   "source": [
    "# Best hyperparameters\n",
    "fittedgrid_US1.best_params_"
   ]
  },
  {
   "cell_type": "code",
   "execution_count": null,
   "id": "7856d7bc",
   "metadata": {
    "scrolled": false
   },
   "outputs": [],
   "source": [
    "plot_confusion_matrix(fittedgrid_US1.best_estimator_, X_validation, y_validation)"
   ]
  },
  {
   "cell_type": "code",
   "execution_count": null,
   "id": "4429813f",
   "metadata": {},
   "outputs": [],
   "source": [
    "y_pred_US1=fittedgrid_US1.predict(X_validation)\n",
    "\n",
    "print(classification_report(y_validation, y_pred_US1))"
   ]
  },
  {
   "cell_type": "markdown",
   "id": "19036ce9",
   "metadata": {},
   "source": [
    "There appears to virtually be no change in scores, so we will upsample the injury further so that there equivalent amounts of injury to non-injury."
   ]
  },
  {
   "cell_type": "markdown",
   "id": "3b356cd2",
   "metadata": {},
   "source": [
    "# Upsample attempt to 50-50 split of injury vs non-injury\n"
   ]
  },
  {
   "cell_type": "code",
   "execution_count": null,
   "id": "0983eaf0",
   "metadata": {},
   "outputs": [],
   "source": [
    "#checking the number of non-injured vs injured, to set our resample accordingly\n",
    "np.unique(y_train, return_counts= True)"
   ]
  },
  {
   "cell_type": "code",
   "execution_count": null,
   "id": "fc927138",
   "metadata": {},
   "outputs": [],
   "source": [
    "#upsampling to 50-50 split\n",
    "X_upsampled2, y_upsampled2 = resample(X_train[y_train == 1], # injury features\n",
    "                                    y_train[y_train == 1], # inj labels\n",
    "                                    replace=True, \n",
    "                                    n_samples=27003,\n",
    "                                    random_state=123)\n",
    "\n",
    "print('Number of class 1 examples after:', X_upsampled2.shape[0])\n",
    "\n",
    "# Combine upsample with original data\n",
    "X_train_US2 = np.vstack((X_train[y_train == 0], X_upsampled2)) # same as concat with axis=0\n",
    "y_train_US2 = np.hstack((y_train[y_train == 0], y_upsampled2))\n",
    "\n"
   ]
  },
  {
   "cell_type": "code",
   "execution_count": null,
   "id": "8921be31",
   "metadata": {
    "scrolled": true
   },
   "outputs": [],
   "source": [
    "#refitting gridsearch\n",
    "param_grid = ([\n",
    "    {\n",
    "        'Scaler': [StandardScaler(), None],\n",
    "        'Model': [LogisticRegression(max_iter= 1000)],\n",
    "        'Model__class_weight': ['balanced', {0:1, 1:1000},{0:1, 1:300},],\n",
    "        'Model__C': [0.00001, 0.0001, 0.001, 0.01, 0.1, 1, 10, 100, 1000],\n",
    "    }]\n",
    ")\n",
    "\n",
    "grid = GridSearchCV(pipe, param_grid, scoring= f1_micro, cv=5, n_jobs=-1)\n",
    "\n",
    "fittedgrid_US2= grid.fit(X_train_US2, y_train_US2)"
   ]
  },
  {
   "cell_type": "code",
   "execution_count": null,
   "id": "cfadc4a0",
   "metadata": {
    "scrolled": true
   },
   "outputs": [],
   "source": [
    "# Best hyperparameters\n",
    "fittedgrid_US2.best_params_"
   ]
  },
  {
   "cell_type": "code",
   "execution_count": null,
   "id": "969cfe8b",
   "metadata": {
    "scrolled": false
   },
   "outputs": [],
   "source": [
    "plot_confusion_matrix(fittedgrid_US2.best_estimator_, X_validation, y_validation)"
   ]
  },
  {
   "cell_type": "code",
   "execution_count": null,
   "id": "1db4c855",
   "metadata": {
    "scrolled": true
   },
   "outputs": [],
   "source": [
    "y_pred_US2=fittedgrid_US2.predict(X_validation)\n",
    "\n",
    "print(classification_report(y_validation, y_pred_US2))"
   ]
  },
  {
   "cell_type": "markdown",
   "id": "3dccfbe2",
   "metadata": {},
   "source": [
    "Again we see a a small but insignificant improvement. Next we will try down sampling the non-Injuries."
   ]
  },
  {
   "cell_type": "markdown",
   "id": "289291a3",
   "metadata": {},
   "source": [
    "# Down Sampling Non-Injuries to 1/2 "
   ]
  },
  {
   "cell_type": "code",
   "execution_count": null,
   "id": "a01aa9ba",
   "metadata": {
    "scrolled": true
   },
   "outputs": [],
   "source": [
    "#checking the number of non-injured vs injured, to set our resample accordingly\n",
    "np.unique(y_train, return_counts= True)"
   ]
  },
  {
   "cell_type": "code",
   "execution_count": null,
   "id": "507f1d91",
   "metadata": {},
   "outputs": [],
   "source": [
    "27003/2"
   ]
  },
  {
   "cell_type": "code",
   "execution_count": null,
   "id": "970214eb",
   "metadata": {},
   "outputs": [],
   "source": [
    "#Down sampling non-inj\n",
    "X_downsampled, y_downsampled = resample(X_train[y_train == 0], \n",
    "                                    y_train[y_train == 0], \n",
    "                                    replace=True, \n",
    "                                    n_samples=13501,\n",
    "                                    random_state=123)\n",
    "\n",
    "print('Number of class 1 examples after:', X_downsampled.shape[0])\n",
    "\n",
    "# Combine upsample with original data\n",
    "X_train_DS1 = np.vstack((X_train[y_train == 1], X_downsampled)) \n",
    "y_train_DS1 = np.hstack((y_train[y_train == 1], y_downsampled))\n"
   ]
  },
  {
   "cell_type": "code",
   "execution_count": null,
   "id": "3f1ea53b",
   "metadata": {},
   "outputs": [],
   "source": [
    "np.unique(y_train_DS1, return_counts= True)"
   ]
  },
  {
   "cell_type": "markdown",
   "id": "5e73962f",
   "metadata": {},
   "source": [
    "We will now run a grid search to optimize logistic regression hyper parameters for this data set"
   ]
  },
  {
   "cell_type": "code",
   "execution_count": null,
   "id": "a493bff5",
   "metadata": {
    "scrolled": true
   },
   "outputs": [],
   "source": [
    "param_grid = ([\n",
    "    {\n",
    "        'Scaler': [StandardScaler(), None],\n",
    "        'Model': [LogisticRegression(max_iter= 1000)],\n",
    "        'Model__class_weight': ['balanced', {0:1, 1:1000},{0:1, 1:300},],\n",
    "        'Model__C': [0.00001, 0.0001, 0.001, 0.01, 0.1, 1, 10],\n",
    "    }]\n",
    ")\n",
    "\n",
    "grid = GridSearchCV(pipe, param_grid, scoring= f1_micro, cv=5, n_jobs=-1)\n",
    "\n",
    "fittedgrid_DS1= grid.fit(X_train_DS1, y_train_DS1)"
   ]
  },
  {
   "cell_type": "code",
   "execution_count": null,
   "id": "5c9655f0",
   "metadata": {
    "scrolled": true
   },
   "outputs": [],
   "source": [
    "# Best hyperparameters\n",
    "fittedgrid_DS1.best_params_"
   ]
  },
  {
   "cell_type": "code",
   "execution_count": null,
   "id": "1266d355",
   "metadata": {
    "scrolled": false
   },
   "outputs": [],
   "source": [
    "plot_confusion_matrix(fittedgrid_DS1.best_estimator_, X_validation, y_validation)"
   ]
  },
  {
   "cell_type": "code",
   "execution_count": null,
   "id": "4f2e5ab0",
   "metadata": {
    "scrolled": false
   },
   "outputs": [],
   "source": [
    "y_pred_DS1=fittedgrid_DS1.predict(X_validation)\n",
    "\n",
    "print(classification_report(y_validation, y_pred_DS1))"
   ]
  },
  {
   "cell_type": "markdown",
   "id": "cb878a2d",
   "metadata": {},
   "source": [
    "Again, we see marginal improvement but still not significatn enough.\n",
    "This time we will down sample the data to 2x the size of the injury class"
   ]
  },
  {
   "cell_type": "markdown",
   "id": "9e95daa3",
   "metadata": {},
   "source": [
    "# Down sampling to 2x the size of Injury class"
   ]
  },
  {
   "cell_type": "code",
   "execution_count": null,
   "id": "bf5c983d",
   "metadata": {
    "scrolled": true
   },
   "outputs": [],
   "source": [
    "#checking the number of non-injured vs injured, to set our resample accordingly\n",
    "np.unique(y_train, return_counts= True)"
   ]
  },
  {
   "cell_type": "code",
   "execution_count": null,
   "id": "262d90a1",
   "metadata": {},
   "outputs": [],
   "source": [
    "366*2"
   ]
  },
  {
   "cell_type": "code",
   "execution_count": null,
   "id": "1245d679",
   "metadata": {},
   "outputs": [],
   "source": [
    "#Down sampling non-inj\n",
    "X_downsampled, y_downsampled = resample(X_train[y_train == 0], \n",
    "                                    y_train[y_train == 0], \n",
    "                                    replace=True, \n",
    "                                    n_samples=732,\n",
    "                                    random_state=123)\n",
    "\n",
    "print('Number of class 1 examples after:', X_downsampled.shape[0])\n",
    "\n",
    "# Combine upsample with original data\n",
    "X_train_DS2 = np.vstack((X_train[y_train == 1], X_downsampled)) \n",
    "y_train_DS2 = np.hstack((y_train[y_train == 1], y_downsampled))\n"
   ]
  },
  {
   "cell_type": "code",
   "execution_count": null,
   "id": "9b366f23",
   "metadata": {},
   "outputs": [],
   "source": [
    "np.unique(y_train_DS2, return_counts= True)"
   ]
  },
  {
   "cell_type": "markdown",
   "id": "18c68d11",
   "metadata": {},
   "source": [
    "We will now run a grid search to optimize logistic regression hyper parameters for this data set"
   ]
  },
  {
   "cell_type": "code",
   "execution_count": null,
   "id": "02604db8",
   "metadata": {
    "scrolled": true
   },
   "outputs": [],
   "source": [
    "param_grid = ([\n",
    "    {\n",
    "        'Scaler': [StandardScaler(), None],\n",
    "        'Model': [LogisticRegression(max_iter= 1000)],\n",
    "        'Model__class_weight': ['balanced', {0:1, 1:1000},{0:1, 1:300},],\n",
    "        'Model__C': [0.00001, 0.0001, 0.001, 0.01, 0.1, 1, 10],\n",
    "    }]\n",
    ")\n",
    "\n",
    "grid = GridSearchCV(pipe, param_grid, scoring= f1_micro, cv=5, n_jobs=-1)\n",
    "\n",
    "fittedgrid_DS2= grid.fit(X_train_DS2, y_train_DS2)"
   ]
  },
  {
   "cell_type": "code",
   "execution_count": null,
   "id": "c70d3132",
   "metadata": {
    "scrolled": true
   },
   "outputs": [],
   "source": [
    "# Best hyperparameters\n",
    "fittedgrid_DS2.best_params_"
   ]
  },
  {
   "cell_type": "code",
   "execution_count": null,
   "id": "87405088",
   "metadata": {
    "scrolled": false
   },
   "outputs": [],
   "source": [
    "plot_confusion_matrix(fittedgrid_DS2.best_estimator_, X_validation, y_validation)"
   ]
  },
  {
   "cell_type": "code",
   "execution_count": null,
   "id": "0725e809",
   "metadata": {
    "scrolled": false
   },
   "outputs": [],
   "source": [
    "y_pred_DS2=fittedgrid_DS2.predict(X_validation)\n",
    "\n",
    "print(classification_report(y_validation, y_pred_DS2))"
   ]
  },
  {
   "cell_type": "markdown",
   "id": "77440c85",
   "metadata": {},
   "source": [
    "Unfortunately, as before we still only see minimal improvements in the recall but the f1 score and perceision are still the same. Our last attempt will be down sampling the non-injured calss to teh point where we have a 50/50 split in the injury class."
   ]
  },
  {
   "cell_type": "markdown",
   "id": "71f720eb",
   "metadata": {},
   "source": [
    "# Down sampling to 50/50 split"
   ]
  },
  {
   "cell_type": "code",
   "execution_count": null,
   "id": "81e75cad",
   "metadata": {
    "scrolled": true
   },
   "outputs": [],
   "source": [
    "#checking the number of non-injured vs injured, to set our resample accordingly\n",
    "np.unique(y_train, return_counts= True)"
   ]
  },
  {
   "cell_type": "code",
   "execution_count": null,
   "id": "663e7bbc",
   "metadata": {},
   "outputs": [],
   "source": [
    "#Down sampling non-inj\n",
    "X_downsampled, y_downsampled = resample(X_train[y_train == 0], \n",
    "                                    y_train[y_train == 0], \n",
    "                                    replace=True, \n",
    "                                    n_samples=366,\n",
    "                                    random_state=123)\n",
    "\n",
    "print('Number of class 1 examples after:', X_downsampled.shape[0])\n",
    "\n",
    "# Combine upsample with original data\n",
    "X_train_DS3 = np.vstack((X_train[y_train == 1], X_downsampled)) \n",
    "y_train_DS3 = np.hstack((y_train[y_train == 1], y_downsampled))\n"
   ]
  },
  {
   "cell_type": "code",
   "execution_count": null,
   "id": "00acfe43",
   "metadata": {},
   "outputs": [],
   "source": [
    "np.unique(y_train_DS3, return_counts= True)"
   ]
  },
  {
   "cell_type": "markdown",
   "id": "f4c7e800",
   "metadata": {},
   "source": [
    "We will now run a grid search to optimize logistic regression hyper parameters for this data set"
   ]
  },
  {
   "cell_type": "code",
   "execution_count": null,
   "id": "92170b24",
   "metadata": {
    "scrolled": true
   },
   "outputs": [],
   "source": [
    "param_grid = ([\n",
    "    {\n",
    "        'Scaler': [StandardScaler(), None],\n",
    "        'Model': [LogisticRegression(max_iter= 1000)],\n",
    "        'Model__class_weight': ['balanced', {0:1, 1:1000},{0:1, 1:300},],\n",
    "        'Model__C': [0.00001, 0.0001, 0.001, 0.01, 0.1, 1, 10],\n",
    "    }]\n",
    ")\n",
    "\n",
    "grid = GridSearchCV(pipe, param_grid, scoring= f1_micro, cv=5, n_jobs=-1)\n",
    "\n",
    "fittedgrid_DS3= grid.fit(X_train_DS3, y_train_DS3)"
   ]
  },
  {
   "cell_type": "code",
   "execution_count": null,
   "id": "43d408ec",
   "metadata": {
    "scrolled": true
   },
   "outputs": [],
   "source": [
    "# Best hyperparameters\n",
    "fittedgrid_DS3.best_params_"
   ]
  },
  {
   "cell_type": "code",
   "execution_count": null,
   "id": "08ab24a8",
   "metadata": {
    "scrolled": false
   },
   "outputs": [],
   "source": [
    "plot_confusion_matrix(fittedgrid_DS3.best_estimator_, X_validation, y_validation)"
   ]
  },
  {
   "cell_type": "code",
   "execution_count": null,
   "id": "91d68ae3",
   "metadata": {
    "scrolled": false
   },
   "outputs": [],
   "source": [
    "y_pred_DS2=fittedgrid_DS3.predict(X_validation)\n",
    "\n",
    "print(classification_report(y_validation, y_pred_DS2))"
   ]
  },
  {
   "cell_type": "markdown",
   "id": "6b05d653",
   "metadata": {},
   "source": [
    "Surpsiginly we actually see the recall get slightly worse. As such we will consider the 2nd down sample model our best performing logistic regression."
   ]
  },
  {
   "cell_type": "markdown",
   "id": "c3e49181",
   "metadata": {},
   "source": [
    "# Conclusion\n",
    "Despite opotimizing hyper parameters, up sampling the injury class and even down sampling the non-injured class, we were still unable to get a sufficint model to predict injuries. With that said we will instead try a different model and see if we will have better results (see next note book `XGBoost-Predicting Running Injuries`).\n"
   ]
  },
  {
   "cell_type": "markdown",
   "id": "22812383",
   "metadata": {},
   "source": [
    "Back to top [Logistic Regression Model to Predict Running Injuries](#Logistic-Regression-Model-to-Predict-Running-Injuries)\n"
   ]
  }
 ],
 "metadata": {
  "kernelspec": {
   "display_name": "Python 3 (ipykernel)",
   "language": "python",
   "name": "python3"
  },
  "language_info": {
   "codemirror_mode": {
    "name": "ipython",
    "version": 3
   },
   "file_extension": ".py",
   "mimetype": "text/x-python",
   "name": "python",
   "nbconvert_exporter": "python",
   "pygments_lexer": "ipython3",
   "version": "3.9.12"
  }
 },
 "nbformat": 4,
 "nbformat_minor": 5
}
